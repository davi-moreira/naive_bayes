{
 "cells": [
  {
   "cell_type": "markdown",
   "id": "454e37d3",
   "metadata": {
    "slideshow": {
     "slide_type": "slide"
    }
   },
   "source": [
    "<center>\n",
    "<div>\n",
    "<img src=\"https://raw.githubusercontent.com/davi-moreira/naive_bayes/main/figs/bayes_theorem.png\" width=\"400\"/>\n",
    "</div>\n",
    "</center>\n",
    "\n",
    "<br>\n",
    "\n",
    "# <center>Naive Bayes Classifiers <a class=\"tocSkip\"></center>\n",
    "## <center>Davi Moreira <a class=\"tocSkip\"></center>\n",
    "### <center>Quantitative Theory and Methods <a class=\"tocSkip\"></center>\n",
    "### <center>Emory University <a class=\"tocSkip\"></center>"
   ]
  },
  {
   "cell_type": "markdown",
   "id": "8ab3ca39",
   "metadata": {
    "slideshow": {
     "slide_type": "slide"
    }
   },
   "source": [
    "# Today's Summary and Learning Objectives\n",
    "\n",
    "1. **Statistical Foundations** of Naive Bayes Classifiers.\n",
    "\n",
    "        - The beauty of Bayes Theorem in action;\n",
    "        - The Naive Bayes assumptions;\n",
    "        - Three versions of Naive Bayes:\n",
    "                - Gaussian Naive Bayes.\n",
    "                - Multinomial Naive Bayes.\n",
    "                - Bernoulli Naive Bayes.\n",
    "\n",
    "> \"Knowing the underlying statistics allows us to **implement and interpret model outputs** more effectively.\""
   ]
  },
  {
   "cell_type": "markdown",
   "id": "e9f35576",
   "metadata": {
    "slideshow": {
     "slide_type": "slide"
    }
   },
   "source": [
    "# Today's Summary and Learning Objectives <a class=\"tocSkip\">\n",
    "\n",
    "\n",
    "2. Naive Bayes Classifiers **Implementation in `Python`**.\n",
    "\n",
    "        - Beyond theory, we will apply Machine Learning in real-world classification problems.\n",
    "        - Why Python? A versatile tool for data science and machine learning.\n",
    "        - Libraries Make Life Easier: Utilizing NumPy, pandas, and scikit-learn for Naive Bayes.\n",
    "\n",
    "> \"Understanding the code and computational aspects enables us to **apply Naive Bayes to real-world problems** efficiently.\"\n",
    "\n",
    "### Let's embark on a journey through the realms of probability, statistics, and machine learning! <a class=\"tocSkip\">"
   ]
  },
  {
   "cell_type": "markdown",
   "id": "e5724caf",
   "metadata": {
    "slideshow": {
     "slide_type": "slide"
    }
   },
   "source": [
    "# <center>What is a classification problem?</center>"
   ]
  },
  {
   "cell_type": "markdown",
   "id": "2ecf289d",
   "metadata": {
    "slideshow": {
     "slide_type": "slide"
    }
   },
   "source": [
    "## <center>What is a classification problem? <a class=\"tocSkip\"></center>\n",
    "\n",
    " <br>\n",
    "    \n",
    "<center>\n",
    "<div>\n",
    "<img src=\"https://raw.githubusercontent.com/davi-moreira/naive_bayes/main/figs/boxes.gif\" width=\"400\"/>\n",
    "</div>\n",
    "</center>\n",
    "    \n"
   ]
  },
  {
   "cell_type": "markdown",
   "id": "75d028f8",
   "metadata": {
    "slideshow": {
     "slide_type": "slide"
    }
   },
   "source": [
    "# <center>Why do we use Machine Learning in Classification?</center>\n"
   ]
  },
  {
   "cell_type": "markdown",
   "id": "478f0732",
   "metadata": {
    "slideshow": {
     "slide_type": "slide"
    }
   },
   "source": [
    "## What is a Classification Problem and Why do we use Machine Learning in Classification? \n",
    "\n",
    "<br>\n",
    "\n",
    "Classification involves categorizing data into predefined classes or groups based on their features. The goal is to accurately assign new data points to one of these categories."
   ]
  },
  {
   "cell_type": "markdown",
   "id": "4c342653",
   "metadata": {
    "slideshow": {
     "slide_type": "slide"
    }
   },
   "source": [
    "## Real-World Examples\n",
    "\n",
    "<br>\n",
    "\n",
    "- **Business**: From customer segmentation to fraud detection, classification drives smarter business decisions.\n",
    "- **Healthcare**: Predicting disease outbreaks, patient diagnosis, and treatment planning.\n",
    "- **Technology**: Image and Voice recognition.\n",
    "- **Political Science**: Policy Expressed Agendas."
   ]
  },
  {
   "cell_type": "markdown",
   "id": "e9be01fb",
   "metadata": {
    "slideshow": {
     "slide_type": "slide"
    }
   },
   "source": [
    "## Advantages of Machine Learning for Classification\n",
    "\n",
    "<br>\n",
    "\n",
    "- **Efficiency at Scale**: Machine learning algorithms can quickly classify large volumes of data with high accuracy.\n",
    "- **Pattern Recognition**: ML models excel at recognizing complex patterns in data that are not easily discernible by humans.\n",
    "- **Adaptability**: ML classifiers can adapt to new, unseen data, making them ideal for dynamic environments.\n",
    "- **Automation**: Automates the decision-making process in real-time applications, like spam detection or medical diagnoses.\n",
    "- **Continuous Improvement**: ML models can learn from new data over time, improving their accuracy and robustness.\n",
    "\n",
    "Machine learning has transformed the landscape of classification, providing tools that offer precision, speed, and flexibility, which are unparalleled by traditional human and statistical methods."
   ]
  },
  {
   "cell_type": "markdown",
   "id": "8f934da8",
   "metadata": {
    "slideshow": {
     "slide_type": "slide"
    }
   },
   "source": [
    "# <center>What is Naive Bayes?</center>"
   ]
  },
  {
   "cell_type": "markdown",
   "id": "1d7de619",
   "metadata": {
    "slideshow": {
     "slide_type": "slide"
    }
   },
   "source": [
    "## What is Naive Bayes?\n",
    "\n",
    "<br>\n",
    "\n",
    "- A probabilistic machine learning model based on Bayes' Theorem.\n",
    "\n",
    "- Assumes independence among predictors.\n",
    "\n",
    "- Simple yet powerful for classification tasks.\n"
   ]
  },
  {
   "cell_type": "markdown",
   "id": "a0cf97c4",
   "metadata": {
    "slideshow": {
     "slide_type": "slide"
    }
   },
   "source": [
    "## The Origins of Bayes' Theorem\n",
    "\n",
    "<br>\n",
    "\n",
    "- Developed by the English statistician Thomas Bayes (1701–1761).\n",
    "\n",
    "- Bayes' Theorem describes the probability of an event, based on prior knowledge of conditions that might be related to the event.\n"
   ]
  },
  {
   "cell_type": "markdown",
   "id": "1c8d0ae5",
   "metadata": {
    "slideshow": {
     "slide_type": "slide"
    }
   },
   "source": [
    "## [Bayes' Theorem](https://en.wikipedia.org/wiki/Bayes%27_theorem)\n",
    "\n",
    "$$ P(A|B) = \\frac{P(B|A) \\cdot P(A)}{P(B)} $$\n",
    "\n",
    "- $P(A|B)$ is the **posterior probability**: Probability of event A occurring given that B is true - updated probability after the evidence is considered.\n",
    "- $P(A)$ is the **prior probability**: Initial probability of event A - the probability before the evidence is considered.\n",
    "- $P(B|A)$ is the **likelihood**: Probability of observing event B given that A is true.\n",
    "- $P(B)$ is the **marginal probability**: Total probability of the evidence, event B.\n"
   ]
  },
  {
   "cell_type": "markdown",
   "id": "c0056050",
   "metadata": {
    "slideshow": {
     "slide_type": "slide"
    }
   },
   "source": [
    "## Understanding Conditional Probability\n",
    "\n",
    "<br>\n",
    "\n",
    "Conditional probability is the probability of an event occurring given that another event has already occurred.\n",
    "\n",
    "- **Definition**: $$ P(A|B) = \\frac{P(A \\cap B)}{P(B)} $$ is the probability of event A occurring given that B is true.\n",
    "\n",
    "<br>\n",
    "\n",
    "- **Interpretation**: How likely is A if we know that B happens?"
   ]
  },
  {
   "cell_type": "markdown",
   "id": "ef5e5d3d",
   "metadata": {
    "slideshow": {
     "slide_type": "slide"
    }
   },
   "source": [
    "## What is Joint Probability?\n",
    "\n",
    "Joint probability refers to the probability of two events occurring together.\n",
    "\n",
    "- **Definition**: $P(A \\cap B)$ is the probability that both A and B occur.\n",
    "- **Relation to Conditional Probability**: \n",
    "\n",
    "$$ P(A \\cap B) = P(A|B) \\cdot P(B) $$\n",
    "$$ P(B \\cap A) = P(B|A) \\cdot P(A) $$\n",
    "\n",
    "This formula is crucial for understanding Bayes' Theorem."
   ]
  },
  {
   "cell_type": "markdown",
   "id": "7921ecff",
   "metadata": {
    "slideshow": {
     "slide_type": "slide"
    }
   },
   "source": [
    "### Symmetry in Joint Events\n",
    "\n",
    "Joint probability is symmetric, meaning:\n",
    "\n",
    "$$ P(A \\cap B) = P(B \\cap A) $$\n",
    "\n",
    "Thus, we can also express it as:\n",
    "\n",
    "$$ P(A \\cap B) = P(B|A) \\cdot P(A) $$\n",
    "\n",
    "This symmetry is the key to deriving Bayes' Theorem."
   ]
  },
  {
   "cell_type": "markdown",
   "id": "528d3237",
   "metadata": {
    "slideshow": {
     "slide_type": "slide"
    }
   },
   "source": [
    "## Deriving Bayes' Theorem\n",
    "\n",
    "## From Conditional Probability to Bayes' Theorem <a class=\"tocSkip\">\n",
    "\n",
    "Given that the definition of Conditional Probability is:\n",
    "\n",
    "$$ P(A|B) = \\frac{P(A \\cap B)}{P(B)} $$\n",
    "\n",
    "And knowing:\n",
    "\n",
    "$$ P(A \\cap B) = P(B|A) \\cdot P(A) $$\n",
    "\n",
    "We can substitute to get:\n",
    "\n",
    "$$ P(A|B) = \\frac{P(B|A) \\cdot P(A)}{P(B)} $$\n",
    "\n",
    "### <center>**This is Bayes' Theorem!** <a class=\"tocSkip\"></center>\n"
   ]
  },
  {
   "cell_type": "markdown",
   "id": "77453542",
   "metadata": {
    "slideshow": {
     "slide_type": "slide"
    }
   },
   "source": [
    "# Why Bayes' Theorem Matters?\n",
    "\n",
    "<br>\n",
    "\n",
    "Bayes' Theorem is a foundational principle in probability theory and statistics, enabling:\n",
    "\n",
    "- **Incorporaton of Prior Knowledge**: It allows for the integration of prior knowledge or beliefs when making statistical inferences.\n",
    "\n",
    "- **Beliefs Update**: It provides a systematic way to update the probability estimates as new evidence or data becomes available.\n",
    "\n",
    "- **Probabilistic Thinking**: Encourages a probabilistic approach to decision making, quantifying uncertainty, and reasoning under uncertainty.\n",
    "\n",
    "- **Versatility in Applications**: From medical diagnosis to spam filtering, Bayes' Theorem is pivotal in areas requiring probabilistic assessment.\n",
    "\n",
    "[Bayes' Theorem is a paradigm](https://www.sciencedirect.com/topics/mathematics/bayesian-paradigm#:~:text=Bayesian%20Methodology%20in%20Statistics&text=By%20using%20probability%20distributions%20to,coherence%20of%20the%20proposed%20solutions.) that shapes the way we interpret and interact with data, offering a powerful tool for learning from information and making decisions in an uncertain world.\n",
    "<a id='another_cell'></a>\n"
   ]
  },
  {
   "cell_type": "markdown",
   "id": "81fde70c",
   "metadata": {
    "slideshow": {
     "slide_type": "slide"
    }
   },
   "source": [
    "## Example: Medical Diagnosis\n",
    "\n",
    "\n",
    "### What is the probability that a person has the disease if they tested positive?\n",
    "\n",
    "<br>\n",
    "\n",
    "Consider a test for a particular disease, which has the following characteristics:\n",
    "\n",
    "<br>\n",
    "\n",
    "- **Disease Prevalence (Prior Probability)**: 0.1%, $P(Disease) = 0.001$.\n",
    "\n",
    "\n",
    "- **Test Sensitivity (True Positive Rate)**: 99%, $P(Pos | Disease) = 0.99$.\n",
    "\n",
    "\n",
    "- **Test Specificity (True Negative Rate)**: 95%, $P(Neg | NoDisease) = 0.95$.\n",
    "\n"
   ]
  },
  {
   "cell_type": "markdown",
   "id": "c09f6b7b",
   "metadata": {
    "slideshow": {
     "slide_type": "slide"
    }
   },
   "source": [
    "### Understanding Our Priors\n",
    "\n",
    "<br>\n",
    "\n",
    "- **Prior Probability of Having the Disease**: $P(Disease) = 0.001$\n",
    "\n",
    "<br>\n",
    "\n",
    "- **Prior Probability of Not Having the Disease**: $P(NoDisease) = 1 - P(Disease) = 0.999$\n",
    "\n",
    "<br>\n",
    "\n",
    "These priors are essential for our Bayes' Theorem calculation.\n"
   ]
  },
  {
   "cell_type": "markdown",
   "id": "08e2e513",
   "metadata": {
    "slideshow": {
     "slide_type": "slide"
    }
   },
   "source": [
    "### Applying Bayes' Theorem\n",
    "\n",
    "<br>\n",
    "\n",
    "\n",
    "To find the posterior probability $P(Disease | Pos)$, we apply Bayes' Theorem:\n",
    "\n",
    "$$ P(Disease | Pos) = \\frac{P(Pos | Disease) \\cdot P(Disease)}{P(Pos)} $$\n",
    "\n",
    "<br>\n",
    "\n",
    "Where $P(Pos)$ can be found using the [law of total probability](https://en.wikipedia.org/wiki/Law_of_total_probability):\n",
    "\n",
    "$$ P(Pos) = P(Pos | Disease) \\cdot P(Disease) + P(Pos | NoDisease) \\cdot P(NoDisease) $$\n",
    "\n",
    "> The law of total probability is a fundamental rule relating marginal probabilities to conditional probabilities. It states that the probability of an event can be found by considering all possible ways that the event can occur."
   ]
  },
  {
   "cell_type": "markdown",
   "id": "9977e3e9",
   "metadata": {
    "slideshow": {
     "slide_type": "slide"
    }
   },
   "source": [
    "### Finding $P(Pos)$\n",
    "\n",
    "<br>\n",
    "\n",
    "Given our test specificity is 95%, the false positive rate is 5% ($P(Pos | NoDisease) = 0.05$).\n",
    "\n",
    "$$ P(Pos) = (0.99 \\times 0.001) + (0.05 \\times 0.999) $$\n",
    "$$ P(Pos) = 0.051 $$\n",
    "\n"
   ]
  },
  {
   "cell_type": "markdown",
   "id": "a942fcef",
   "metadata": {
    "slideshow": {
     "slide_type": "slide"
    }
   },
   "source": [
    "### The Posterior Probability\n",
    "\n",
    "<br>\n",
    "\n",
    "- **Given**: $P(Pos | Disease) = 0.99$, $P(Disease) = 0.001$, and our calculated $P(Pos) = 0.051$.\n",
    "\n",
    "<br>\n",
    "\n",
    "$$ P(Disease | Pos) = \\frac{0.99 \\times 0.001}{0.051 } $$\n",
    "\n",
    "<br>\n",
    "\n",
    "$$ P(Disease | Pos) = 0.019 $$\n",
    "\n",
    "Despite testing positive, **an individual has only a $1.9\\%$ chance of having the disease**. This result might seem counterintuitive given the high test sensitivity (99%), but it is largely due to the low prevalence of the disease (0.1%) and the impact of false positives in the wider population.\n",
    "\n",
    ">**Implications**: This underscores a crucial aspect of diagnostic tests - a high sensitivity rate does not guarantee a high probability of having the disease upon testing positive, especially when the disease prevalence is low. The relatively low posterior probability highlights the importance of considering both the characteristics of the test (such as sensitivity and specificity) and the prevalence of the condition in the population when interpreting test results.\n"
   ]
  },
  {
   "cell_type": "markdown",
   "id": "cdf89237",
   "metadata": {
    "slideshow": {
     "slide_type": "slide"
    }
   },
   "source": [
    "# <center>Bayes' Theorem for Classification</center>\n"
   ]
  },
  {
   "cell_type": "markdown",
   "id": "cb89a7a5",
   "metadata": {
    "slideshow": {
     "slide_type": "slide"
    }
   },
   "source": [
    "## Bayes' Theorem for Classification\n",
    "\n",
    "<br>\n",
    "\n",
    "Given a set of features $X = (x_1, x_2, ..., x_n)$, we want to predict the class $C_k$ out of $m$ possible classes.\n",
    "\n",
    "The goal is to find:\n",
    "\n",
    "$$ P(C_k|X) = \\frac{P(X|C_k) \\cdot P(C_k)}{P(X)} $$\n",
    "\n",
    "- **$P(C_k|X)$** is the **posterior probability**: Probability of class $C_k$ given features $X$.\n",
    "- **$P(C_k)$** is the **prior probability**: Probability of class $C_k$.\n",
    "- **$P(X|C_k)$** is the **likelihood**: Likelihood of features $X$ given class $C_k$.\n",
    "- **$P(X)$** is the **marginal probability**: Evidence, the total probability of observing features $X$.\n",
    "\n",
    "### How do we deal with $X$ being multidimensional? <a class=\"tocSkip\">"
   ]
  },
  {
   "cell_type": "markdown",
   "id": "27c64e21",
   "metadata": {
    "slideshow": {
     "slide_type": "slide"
    }
   },
   "source": [
    "## The Complexity of High Dimensionality\n",
    "\n",
    "<br>\n",
    "\n",
    "When applying Bayes' Theorem to classification:\n",
    "\n",
    "<br>\n",
    "\n",
    "- We encounter **multidimensional feature vectors** $X = (x_1, x_2, ..., x_n)$.\n",
    "\n",
    "<br>\n",
    "\n",
    "- Calculating the likelihood, $P(X|C_k)$, directly becomes impractical due to the **curse of dimensionality**.\n",
    "\n",
    "<br>\n",
    "\n",
    "- High-dimensional spaces increase the **data requirement exponentially**.\n",
    "\n",
    "<br>\n",
    "\n",
    "- **Direct calculation** of $P(X|C_k)$ involves understanding complex relationships among all features.\n"
   ]
  },
  {
   "cell_type": "markdown",
   "id": "b3a90928",
   "metadata": {
    "slideshow": {
     "slide_type": "slide"
    }
   },
   "source": [
    "### Example: The Challenge of High Dimensionality in Spam Detection\n",
    "\n",
    "<br>\n",
    "\n",
    "- **Context**: Email spam detection based on multidimensional feature vectors $X = (x_1, x_2, ..., x_n)$.\n",
    "\n",
    "- **Goal**: Classify emails into spam ($C_1$) or not spam ($C_2$).\n",
    "\n",
    "### Multidimensional Features <a class=\"tocSkip\">\n",
    "\n",
    "- Frequency of specific keywords (e.g., \"offer\", \"free\").\n",
    "- Email length.\n",
    "- Use of capital letters.\n",
    "- Presence of attachments.\n",
    "- Time of day the email was sent.\n",
    "\n",
    "Each feature contributes to identifying spam."
   ]
  },
  {
   "cell_type": "markdown",
   "id": "20cc9733",
   "metadata": {
    "slideshow": {
     "slide_type": "slide"
    }
   },
   "source": [
    "### Example: The Challenge of High Dimensionality in Spam Detection\n",
    "\n",
    "\n",
    "### Complexity of Direct Calculation $P(X|C_k)$ <a class=\"tocSkip\">\n",
    "\n",
    "<br>\n",
    "\n",
    "- Directly calculating $P(X|C_k)$ requires assessing how all features $x_1, x_2, ..., x_n$ collectively influence the likelihood of an email being spam.\n",
    "\n",
    "<br>\n",
    "\n",
    "- With 10 binary features, there are $2^{10} = 1024$ possible combinations.\n",
    "\n",
    "<br>\n",
    "\n",
    "- Accurately estimating $P(X|C_k)$ for all combinations requires a vast dataset, often impractical to obtain.\n"
   ]
  },
  {
   "cell_type": "markdown",
   "id": "a79af113",
   "metadata": {
    "slideshow": {
     "slide_type": "slide"
    }
   },
   "source": [
    "# <center>The Naive Assumption</center>\n"
   ]
  },
  {
   "cell_type": "markdown",
   "id": "ba35bb43",
   "metadata": {
    "slideshow": {
     "slide_type": "slide"
    }
   },
   "source": [
    "## The Naive Assumption\n",
    "\n",
    "The Naive Bayes assumption simplifies the problem by assuming **each feature $x_i$ is independent of every other feature**.\n",
    "\n",
    "This leads to:\n",
    "\n",
    "$$ P(X|C_k) = P(x_1, x_2, ..., x_n|C_k) = \\prod_{i=1}^{n} P(x_i|C_k) $$\n",
    "\n",
    "Thus, our classifier becomes:\n",
    "\n",
    "$$ P(C_k|X) = \\frac{P(C_k) \\prod_{i=1}^{n} P(x_i|C_k)}{P(X)} $$\n",
    "\n",
    "- **Independence**: Each feature $x_i$ is independent of every other feature given the class $C_k$.\n",
    "- This assumption significantly reduces computational complexity."
   ]
  },
  {
   "cell_type": "markdown",
   "id": "dd049bbf",
   "metadata": {
    "slideshow": {
     "slide_type": "slide"
    }
   },
   "source": [
    "# <center>The Naive Bayes Classifier</center> \n"
   ]
  },
  {
   "cell_type": "markdown",
   "id": "f305e728",
   "metadata": {
    "slideshow": {
     "slide_type": "slide"
    }
   },
   "source": [
    "## The Naive Bayes Classifier \n",
    "\n",
    "Given the independence assumption, we can rewrite Bayes' Theorem for our classification problem:\n",
    "\n",
    "$$ P(C_k|X) = \\frac{P(C_k) \\prod_{i=1}^{n} P(x_i|C_k)}{P(X)} $$\n",
    "\n",
    "- **Classification Decision**: Since $P(X)=P(x_1, \\dots, x_n) $  is constant across all classes, we focus on the classification rule that maximize the numerator:\n",
    "\n",
    "$$\n",
    "P(C_k \\mid x_1, \\dots, x_n) \\propto P(C_k) \\prod_{i=1}^{n} P(x_i \\mid C_k)\n",
    "$$\n",
    "$$\n",
    "\\Downarrow\n",
    "$$\n",
    "\n",
    "$$ \\hat{C} = \\arg \\max_{C_k} P(C_k) \\prod_{i=1}^{n} P(x_i|C_k) $$\n",
    "\n",
    "$ P(C_k) $ is then the relative frequency of class $ C $\n",
    "in the training set.\n",
    "\n",
    "\n"
   ]
  },
  {
   "cell_type": "markdown",
   "id": "c5328191",
   "metadata": {
    "slideshow": {
     "slide_type": "slide"
    }
   },
   "source": [
    "# <center>Statistical Learning Models</center>\n"
   ]
  },
  {
   "cell_type": "markdown",
   "id": "59f7933e",
   "metadata": {
    "slideshow": {
     "slide_type": "slide"
    }
   },
   "source": [
    "## Statistical Learning Models\n",
    "\n",
    "**Learning Paradigms**: Statistical learning models can be broadly categorized into **supervised and unsupervised** learning based on the nature of the training data and the learning objectives.\n",
    "\n",
    "### Supervised Learning\n",
    "\n",
    "Models are trained on labeled data. Each training example includes an input and a corresponding output label. The goal is to learn a mapping function from inputs to outputs to make predictions on new, unseen data.\n",
    "\n",
    "### Examples <a class=\"tocSkip\">\n",
    "\n",
    "- **Linear Regression**: Predicts a continuous output. Common in predicting housing prices, stock market trends, etc.\n",
    "- **Naive Bayes Classifiers**: Suitable for classification tasks like: image recognition, spam detection, and document categorization.\n",
    "- **Random Forests**: Versatile for classification and regression tasks. Used in customer segmentation, medical diagnosis, and more.\n",
    "- **Support Vector Machines (SVM)**: Effective in high-dimensional spaces for classification tasks such as image recognition and text categorization.\n"
   ]
  },
  {
   "cell_type": "markdown",
   "id": "75defce2",
   "metadata": {
    "slideshow": {
     "slide_type": "slide"
    }
   },
   "source": [
    "## Statistical learning models\n",
    "\n",
    "### Unsupervised Learning\n",
    "\n",
    "Models work with unlabeled data, focusing on identifying patterns, clusters, or relationships within the data without predefined labels.\n",
    "\n",
    "### Examples <a class=\"tocSkip\">\n",
    "\n",
    "- **K-Means Clustering**: Identifies clusters within the data. Applied in market segmentation, gene sequence analysis, etc.\n",
    "- **Principal Component Analysis (PCA)**: A dimensionality reduction technique used to reduce the dimensionality of large data sets.\n",
    "- **Topic Models (e.g., Latent Dirichlet Allocation - LDA)**: Used to discover the abstract \"topics\" that occur in a collection of documents. Topic modeling is widely used in text mining for uncovering hidden thematic structures in text data, such as finding trends in scientific literature, organizing large archives of documents, or enhancing search engines.\n",
    "\n",
    "    "
   ]
  },
  {
   "cell_type": "markdown",
   "id": "e90539fc",
   "metadata": {
    "slideshow": {
     "slide_type": "slide"
    }
   },
   "source": [
    "## Generative vs. Discriminative Models\n",
    "\n",
    "Within the supervised and unsupervised paradigm, models can be further categorized into generative and discriminative types:\n",
    "\n",
    "### Generative Models\n",
    "\n",
    "- **Approach**: Learn the joint probability distribution $P(X, Y)$ and use it to calculate the conditional probability $P(Y|X)$ for prediction.\n",
    "- **Goal**: To model how data is generated by estimating the underlying probability distribution.\n",
    "- **Use**: Common in supervised learning, especially when predicting class probabilities is important.\n",
    "- **Examples**: Naive Bayes, Linear Discriminant Analysis, Quadratic Discriminant Analysis."
   ]
  },
  {
   "cell_type": "markdown",
   "id": "076746d3",
   "metadata": {
    "slideshow": {
     "slide_type": "slide"
    }
   },
   "source": [
    "### Discriminative Models\n",
    "\n",
    "- **Approach**: Directly learn the conditional probability $P(Y|X)$ or decision boundary between classes without assuming anything about the joint distribution.\n",
    "- **Goal**: To find a division in the feature space that separates classes.\n",
    "- **Use**: Typically used in supervised learning to classify data into labeled categories.\n",
    "- **Examples**: Logistic Regression, Support Vector Machines, Decision Trees.\n",
    "\n",
    "\n",
    "Understanding the distinctions between these paradigms and model types is crucial for selecting the appropriate approach for a given machine learning task."
   ]
  },
  {
   "cell_type": "markdown",
   "id": "a9f19695",
   "metadata": {
    "slideshow": {
     "slide_type": "slide"
    }
   },
   "source": [
    "# Naive Bayes as a Generative Model\n",
    "\n",
    "<br>\n",
    "\n",
    "- **Naive Bayes** is a fundamental example of a generative model.\n",
    "\n",
    "- It makes strong independence assumptions between features given the class label.\n",
    "\n",
    "- Uses Bayes' Theorem to estimate the probability of each class given the feature vector $X$.\n",
    "\n",
    "$$ P(C_k|X) = \\frac{P(X|C_k)P(C_k)}{P(X)} $$\n",
    "\n",
    "- **Strengths**: Simplicity, efficiency, and effectiveness in high-dimensional spaces."
   ]
  },
  {
   "cell_type": "markdown",
   "id": "aa94dd35",
   "metadata": {
    "slideshow": {
     "slide_type": "slide"
    }
   },
   "source": [
    "## Why Generative?\n",
    "\n",
    "<br>\n",
    "\n",
    "- By learning the distribution of each class $P(X|C_k)$ and the prior $P(C_k)$, Naive Bayes models the generation process of the data.\n",
    "- This allows not only for classification but also for generating new data samples based on the learned distributions."
   ]
  },
  {
   "cell_type": "markdown",
   "id": "a29c37a4",
   "metadata": {
    "slideshow": {
     "slide_type": "slide"
    }
   },
   "source": [
    "## The Role of Naive Bayes in Machine Learning\n",
    "\n",
    "<br>\n",
    "\n",
    "- Naive Bayes exemplifies the power and simplicity of generative models.\n",
    "- Provides a foundation for understanding more complex generative approaches.\n",
    "- Remains a go-to method for many classification tasks due to its interpretability and efficiency."
   ]
  },
  {
   "cell_type": "markdown",
   "id": "7a4f2db3",
   "metadata": {
    "slideshow": {
     "slide_type": "slide"
    }
   },
   "source": [
    "# <center>Naive Bayes Classifiers</center>"
   ]
  },
  {
   "cell_type": "markdown",
   "id": "9d496c2e",
   "metadata": {
    "slideshow": {
     "slide_type": "slide"
    }
   },
   "source": [
    "## Gaussian Naive Bayes\n",
    "\n",
    "- **Assumption**: The features $x_i$ are assumed to be normally distributed (Gaussian) for each class $C_k$.\n",
    "- **Applicability**: Ideal for datasets where features are continuous and can be approximated by a Gaussian distribution.\n",
    "- **`Python`**: `GaussianNB` in the `scikit-learn` package implements the Gaussian Naive Bayes algorithm for classification.\n",
    "\n",
    "\n",
    "$$ P(x_i | C_k) = \\frac{1}{\\sqrt{2\\pi\\sigma_{k}^{2}}} \\exp\\left(-\\frac{(x_i - \\mu_{k})^2}{2\\sigma_{k}^{2}}\\right) $$\n",
    "\n",
    "- Where $\\mu_{k}$ and $\\sigma_{k}^{2}$ are the mean and variance of feature $x_i$ for class $C_k$. They are estimated using [maximum likelihood](https://en.wikipedia.org/wiki/Maximum_likelihood_estimation#:~:text=In%20statistics%2C%20maximum%20likelihood%20estimation,observed%20data%20is%20most%20probable.)."
   ]
  },
  {
   "cell_type": "markdown",
   "id": "88d4c3e1",
   "metadata": {
    "slideshow": {
     "slide_type": "slide"
    }
   },
   "source": [
    "## Multinomial Naive Bayes\n",
    "\n",
    "- **Assumption**: The features $x_i$ represent the frequencies with which certain events have been generated by a multinomial distribution.\n",
    "- **Applicability**: Suited for count data, such as the frequency of words in text documents.\n",
    "- **`Python`**: `MultinomialNB` in the `scikit-learn` package implements the naive Bayes algorithm for multinomially. The distribution is parametrized by vectors $ \\theta_{C_k} = (\\theta_{C_k1},\\ldots,\\theta_{C_kn}) $\n",
    "for each class $ C_k $, where $ n $ is the number of features and $ \\theta_{C_ki} $ is the probability $ P(x_i \\mid C_k) $ of feature $ i $ appearing in a sample belonging to class $ C_k $.\n",
    "\n",
    "The parameters $ \\theta_{C_k} $ is estimated by a smoothed version of maximum likelihood, i.e. relative frequency counting:\n",
    "\n",
    "$$\n",
    "\\hat{\\theta}_{C_ki} = \\frac{ N_{C_ki} + \\alpha}{N_{C_k} + \\alpha n}\n",
    "$$\n",
    "\n",
    "where $ N_{C_ki} = \\sum_{x \\in T} x_i $ is the number of times feature $ i $ appears in a sample of class $ C_k $\n",
    "in the training set $ T $, and $ N_{C_k} = \\sum_{i=1}^{n} N_{C_ki} $ is the total count of\n",
    "all features for class $ C_k $.\n",
    "\n",
    "If a given class and feature value never occur together in the training data, then the frequency-based probability estimate will be zero, because the probability estimate is directly proportional to the number of occurrences of a feature's value. The smoothing priors $ \\alpha \\ge 0 $ accounts for features not present in the learning samples (*pseudocount*) and prevents zero probabilities in further computations. Setting $ \\alpha = 1 $ is called [Laplace smoothing](https://en.wikipedia.org/wiki/Additive_smoothing), while $ \\alpha < 1 $ is called [Lidstone smoothing](https://en.wikipedia.org/wiki/Additive_smoothing).\n"
   ]
  },
  {
   "cell_type": "markdown",
   "id": "1cf254ed",
   "metadata": {
    "slideshow": {
     "slide_type": "slide"
    }
   },
   "source": [
    "## Bernoulli Naive Bayes\n",
    "\n",
    "- **Assumption**: The features $x_i$ are binary (Boolean) variables indicating the presence or absence of a feature.\n",
    "\n",
    "- **Applicability**: Effective for datasets where features are binary, such as text classification where a word's presence or absence is a feature.\n",
    "\n",
    "- **`Python`**: `BernoulliNB` in the `scikit-learn` package implements the naive Bayes training and classification algorithms for data that is distributed according to multivariate Bernoulli distributions; i.e., there may be multiple features but each one is assumed to be a binary-valued (Bernoulli, boolean) variable. Therefore, this class requires samples to be represented as binary-valued feature vectors; if handed any other kind of data, a `BernoulliNB` instance may binarize its input (depending on the `binarize` parameter).\n",
    "\n",
    "The decision rule for Bernoulli naive Bayes is based on\n",
    "\n",
    "$$\n",
    "P(x_i \\mid C_k) = P(x_i = 1 \\mid C_k) x_i + (1 - P(x_i = 1 \\mid C_k)) (1 - x_i)\n",
    "$$\n",
    "\n",
    "which differs from multinomial NB’s rule in that it explicitly penalizes the non-occurrence of a feature $ i $ that is an indicator for class $ y $, where the multinomial variant would simply ignore a non-occurring feature.\n"
   ]
  },
  {
   "cell_type": "markdown",
   "id": "8fbd16cf",
   "metadata": {
    "slideshow": {
     "slide_type": "slide"
    }
   },
   "source": [
    "## Choosing the Right Naive Bayes Classifier\n",
    "\n",
    "Different Naive Bayes classifiers are suited to different types of data distributions.\n",
    "\n",
    "    \n",
    "## Selection Strategy <a class=\"tocSkip\">\n",
    "\n",
    "1. **Analyze Features**: Understand the distribution of your data (plot your data!).\n",
    "2. **Preprocess**: Tailor preprocessing to fit the model's assumptions (e.g. log transformations).\n",
    "3. **Domain Knowledge**: Let insights from the domain guide your choice.\n",
    "\n",
    "4. **Model Comparison**: Apply different models and evaluate their performance with cross-validation.\n",
    "5. **Hyperparameter Tuning**: For Naive Bayes models, particularly Multinomial and Bernoulli, the `alpha` parameter is crucial. Correctly tuning the `alpha` parameter is a form of regularization that enhances the model's accuracy and robustness, especially important for sparse or imbalanced datasets.\n",
    "\n",
    "\n",
    "The best classifier aligns with the statistical properties of your data and performs best empirically.\n",
    "\n",
    "\n"
   ]
  },
  {
   "cell_type": "markdown",
   "id": "2d8f4c2c",
   "metadata": {
    "slideshow": {
     "slide_type": "slide"
    }
   },
   "source": [
    "# Measuring Performance\n",
    "\n",
    "**Confusion Matrix**: it is a powerful tool for measuring the performance of a classification model. It provides insights beyond overall accuracy, allowing for a detailed analysis of the model's effectiveness.\n",
    "\n",
    "\n",
    "|  | **Predicted: 0** | **Predicted: 1** |\n",
    "|---|---|---|\n",
    "| **Actual: 0** | True Negative | False Positive |\n",
    "| **Actual: 1** | False Negative | True Positive |"
   ]
  },
  {
   "cell_type": "markdown",
   "id": "85edb6bf",
   "metadata": {
    "slideshow": {
     "slide_type": "slide"
    }
   },
   "source": [
    "## Accuracy\n",
    "\n",
    "\n",
    "|  | **Predicted: 0** | **Predicted: 1** |\n",
    "|---|---|---|\n",
    "| **Actual: 0** | True Negative | False Positive |\n",
    "| **Actual: 1** | False Negative | True Positive |\n",
    "\n",
    "<br>\n",
    "\n",
    "$$\\dfrac{\\text{correct predictions}}{\\text{total observations}} \\ = \\ \\dfrac{tp + tn}{tp + tn + fp + fn}$$\n",
    "\n",
    "- Overall effectiveness of the model.\n",
    "- High accuracy: lots of correct predictions!"
   ]
  },
  {
   "cell_type": "markdown",
   "id": "1c0a4b8e",
   "metadata": {
    "slideshow": {
     "slide_type": "slide"
    }
   },
   "source": [
    "## Precision\n",
    "\n",
    "\n",
    "|  | **Predicted: 0** | **Predicted: 1** |\n",
    "|---|---|---|\n",
    "| **Actual: 0** | True Negative | False Positive |\n",
    "| **Actual: 1** | False Negative | True Positive |\n",
    "\n",
    "<br>\n",
    "    \n",
    "$$\\dfrac{\\text{true positives}}{\\text{total predicted positive}} = \\dfrac{tp}{tp + fp}$$\n",
    "\n",
    "- Accuracy of positive predictions.\n",
    "- High precision: low false-positive rates.\n"
   ]
  },
  {
   "cell_type": "markdown",
   "id": "8aa64817",
   "metadata": {
    "slideshow": {
     "slide_type": "slide"
    }
   },
   "source": [
    "## Recal\n",
    "\n",
    "\n",
    "|  | **Predicted: 0** | **Predicted: 1** |\n",
    "|---|---|---|\n",
    "| **Actual: 0** | True Negative | False Positive |\n",
    "| **Actual: 1** | False Negative | True Positive |\n",
    "\n",
    "<br>\n",
    "\n",
    "$$\\dfrac{\\text{true positives}}{\\text{total actual positive}} \\ = \\ \\dfrac{tp}{tp + fn}$$\n",
    "\n",
    "\n",
    "- Fraction of positives correctly identified.\n",
    "- High recall: low false-negative rates.\n"
   ]
  },
  {
   "cell_type": "markdown",
   "id": "e60387f9",
   "metadata": {
    "slideshow": {
     "slide_type": "slide"
    }
   },
   "source": [
    "## F1-Score\n",
    "\n",
    "\n",
    "|  | **Predicted: 0** | **Predicted: 1** |\n",
    "|---|---|---|\n",
    "| **Actual: 0** | True Negative | False Positive |\n",
    "| **Actual: 1** | False Negative | True Positive |\n",
    "\n",
    "<br>\n",
    "\n",
    "\n",
    "$$ \\text{F1} \\ = \\ 2 \\times \\dfrac{\\text{precision} \\times \\text{recall}}{\\text{precision} + \\text{recall}} $$\n",
    "\n",
    "- Harmonic mean of precision and recall.\n",
    "- A higher F1 score indicates a better balance between precision and recall. For example, in a medical diagnosis scenario, you would want a model that neither predicts too many false negatives (missing out on true cases) nor too many false positives (causing unnecessary alarm).\n"
   ]
  },
  {
   "cell_type": "markdown",
   "id": "4cac5136",
   "metadata": {
    "slideshow": {
     "slide_type": "slide"
    }
   },
   "source": [
    "\n",
    "## Understanding Model Performance\n",
    "\n",
    "<br>\n",
    "\n",
    "- **Imbalanced Classes**: Precision, Recall, and F1 score are crucial in the presence of imbalanced classes.\n",
    "\n",
    "- **Model Objective**: Prioritize metrics based on the application needs, e.g., Recall over Precision in medical diagnostics.\n",
    "\n",
    "The **confusion matrix** offers a comprehensive way to evaluate and improve classification models by providing insights into their specific strengths and weaknesses.\n",
    "\n",
    "|  | **Predicted: 0** | **Predicted: 1** |\n",
    "|---|---|---|\n",
    "| **Actual: 0** | True Negative | False Positive |\n",
    "| **Actual: 1** | False Negative | True Positive |\n",
    "\n"
   ]
  },
  {
   "cell_type": "markdown",
   "id": "8c961d2d",
   "metadata": {
    "slideshow": {
     "slide_type": "slide"
    }
   },
   "source": [
    "# <center>Let's Practice!</center>"
   ]
  },
  {
   "cell_type": "markdown",
   "id": "6ceba1e5",
   "metadata": {
    "slideshow": {
     "slide_type": "slide"
    }
   },
   "source": [
    "## Practice: Gaussian Naive Bayes\n",
    "\n",
    "## Pima Indians Diabetes Database Overview <a class=\"tocSkip\">\n",
    "\n",
    "### Context <a class=\"tocSkip\">\n",
    "\n",
    "- This dataset ([Kaggle Dataset Link](https://www.kaggle.com/datasets/uciml/pima-indians-diabetes-database/data)) originates from the **National Institute of Diabetes and Digestive and Kidney Diseases**. \n",
    "- All patients are females of at least 21 years old of **Pima Indian heritage**, selected under specific constraints for this study.\n",
    "- **Objective**: The aim is to predict whether a patient has diabetes based on diagnostic measurements. "
   ]
  },
  {
   "cell_type": "markdown",
   "id": "e7a88bfc",
   "metadata": {
    "slideshow": {
     "slide_type": "slide"
    }
   },
   "source": [
    "### Content <a class=\"tocSkip\">\n",
    "\n",
    "The dataset features several medical predictor variables alongside one target variable, `Outcome`. Predictor variables include:\n",
    "\n",
    "- Number of pregnancies\n",
    "- BMI (Body Mass Index)\n",
    "- Insulin level\n",
    "- Age\n",
    "- ...among others.\n",
    "\n",
    "These variables assist in diagnostically predicting diabetes presence.\n",
    "    \n",
    "### Assumption <a class=\"tocSkip\">\n",
    "\n",
    "- The features $x_i$ are assumed to be normally distributed (Gaussian) for each class $C_k$.\n",
    "\n",
    "    "
   ]
  },
  {
   "cell_type": "markdown",
   "id": "8de8281e",
   "metadata": {
    "slideshow": {
     "slide_type": "slide"
    }
   },
   "source": [
    "### Step 0: Import libraries and Dataset"
   ]
  },
  {
   "cell_type": "code",
   "execution_count": null,
   "id": "67732bf8",
   "metadata": {
    "slideshow": {
     "slide_type": "slide"
    }
   },
   "outputs": [],
   "source": [
    "# Importing libraries\n",
    "import pandas as pd\n",
    "from pandas.plotting import scatter_matrix\n",
    "import numpy as np\n",
    "import matplotlib.pyplot as plt\n",
    "import seaborn as sns\n",
    "import itertools\n",
    "from sklearn.naive_bayes import GaussianNB\n",
    "from sklearn.preprocessing import MinMaxScaler\n",
    "from sklearn.metrics import accuracy_score\n",
    "from sklearn.metrics import confusion_matrix\n",
    "from sklearn.metrics import classification_report\n",
    "from sklearn.model_selection import train_test_split, cross_val_score\n",
    "\n",
    "\n",
    "import warnings\n",
    "warnings.filterwarnings('ignore')\n",
    "\n",
    "# Importing dataset\n",
    "df = pd.read_csv('https://raw.githubusercontent.com/davi-moreira/naive_bayes/main/data/diabetes.csv')"
   ]
  },
  {
   "cell_type": "markdown",
   "id": "a361a295",
   "metadata": {
    "slideshow": {
     "slide_type": "slide"
    }
   },
   "source": [
    "### Step 1: Descriptive Statistics"
   ]
  },
  {
   "cell_type": "code",
   "execution_count": null,
   "id": "4c5ee493",
   "metadata": {
    "slideshow": {
     "slide_type": "slide"
    }
   },
   "outputs": [],
   "source": [
    "# Preview data\n",
    "df.head()"
   ]
  },
  {
   "cell_type": "code",
   "execution_count": null,
   "id": "3dd32c17",
   "metadata": {
    "slideshow": {
     "slide_type": "slide"
    }
   },
   "outputs": [],
   "source": [
    "# Dataset dimensions - (rows, columns)\n",
    "df.shape"
   ]
  },
  {
   "cell_type": "code",
   "execution_count": null,
   "id": "9eff8d10",
   "metadata": {
    "slideshow": {
     "slide_type": "slide"
    }
   },
   "outputs": [],
   "source": [
    "# Features data-type\n",
    "df.info()"
   ]
  },
  {
   "cell_type": "code",
   "execution_count": null,
   "id": "a80e8a8c",
   "metadata": {
    "slideshow": {
     "slide_type": "slide"
    }
   },
   "outputs": [],
   "source": [
    "# Statistical summary\n",
    "df.describe().T"
   ]
  },
  {
   "cell_type": "code",
   "execution_count": null,
   "id": "625ee924",
   "metadata": {
    "slideshow": {
     "slide_type": "slide"
    }
   },
   "outputs": [],
   "source": [
    "# Count of null values\n",
    "df.isnull().sum()"
   ]
  },
  {
   "cell_type": "markdown",
   "id": "e97e0b2d",
   "metadata": {
    "slideshow": {
     "slide_type": "slide"
    }
   },
   "source": [
    "#### Observations: <a class=\"tocSkip\">\n",
    "\n",
    "1. There are a total of 768 records and 9 features in the dataset.\n",
    "2. Each feature can be either of integer or float dataype.\n",
    "3. Some features like Glucose, Blood pressure, Insulin, BMI have zero values which represent missing data.\n",
    "4. There are zero NaN values in the dataset.\n",
    "5. In the outcome column, 1 represents diabetes positive and 0 represents diabetes negative."
   ]
  },
  {
   "cell_type": "code",
   "execution_count": null,
   "id": "d26eba96",
   "metadata": {
    "slideshow": {
     "slide_type": "slide"
    }
   },
   "outputs": [],
   "source": [
    "# Outcome countplot\n",
    "sns.countplot(x = 'Outcome',data = df)"
   ]
  },
  {
   "cell_type": "code",
   "execution_count": null,
   "id": "97d34d43",
   "metadata": {
    "slideshow": {
     "slide_type": "slide"
    }
   },
   "outputs": [],
   "source": [
    "# Histogram of each feature\n",
    "\n",
    "col = df.columns[:8]\n",
    "plt.subplots(figsize = (20, 15))\n",
    "length = len(col)\n",
    "\n",
    "for i, j in itertools.zip_longest(col, range(length)):\n",
    "    plt.subplot((length//2), 3, j + 1)\n",
    "    plt.subplots_adjust(wspace = 0.1,hspace = 0.5)\n",
    "    df[i].hist(bins = 20)\n",
    "    plt.title(i)\n",
    "plt.show()"
   ]
  },
  {
   "cell_type": "code",
   "execution_count": null,
   "id": "6494a0b1",
   "metadata": {
    "slideshow": {
     "slide_type": "slide"
    }
   },
   "outputs": [],
   "source": [
    "# Scatter plot matrix \n",
    "scatter_matrix(df, figsize = (20, 20));"
   ]
  },
  {
   "cell_type": "code",
   "execution_count": null,
   "id": "3694147e",
   "metadata": {
    "slideshow": {
     "slide_type": "slide"
    }
   },
   "outputs": [],
   "source": [
    "# Pairplot \n",
    "sns.pairplot(data = df, hue = 'Outcome')\n",
    "plt.show()"
   ]
  },
  {
   "cell_type": "code",
   "execution_count": null,
   "id": "00f05180",
   "metadata": {
    "slideshow": {
     "slide_type": "slide"
    }
   },
   "outputs": [],
   "source": [
    "# Heatmap\n",
    "sns.heatmap(df.corr(), annot = True)\n",
    "plt.show()"
   ]
  },
  {
   "cell_type": "markdown",
   "id": "9280b439",
   "metadata": {
    "slideshow": {
     "slide_type": "slide"
    }
   },
   "source": [
    "#### Observations: <a class=\"tocSkip\">\n",
    "\n",
    "1. The countplot tells us that the dataset is imbalanced, as number of patients who don't have diabetes is more than those who do.\n",
    "\n",
    "2. From the correaltion heatmap, we can see that there is a high correlation between Outcome and [Glucose,BMI,Age,Insulin]. "
   ]
  },
  {
   "cell_type": "markdown",
   "id": "27c40a7c",
   "metadata": {
    "slideshow": {
     "slide_type": "slide"
    }
   },
   "source": [
    "### Step 2: Data Preprocessing"
   ]
  },
  {
   "cell_type": "code",
   "execution_count": null,
   "id": "8da32c6a",
   "metadata": {
    "slideshow": {
     "slide_type": "slide"
    }
   },
   "outputs": [],
   "source": [
    "df_new = df\n",
    "# list(df_new)\n",
    "# Preview data\n",
    "df_new.head()"
   ]
  },
  {
   "cell_type": "code",
   "execution_count": null,
   "id": "b71363cb",
   "metadata": {
    "slideshow": {
     "slide_type": "slide"
    }
   },
   "outputs": [],
   "source": [
    "# checking zero values\n",
    "\n",
    "# np.where(df_new['Glucose'] == 0)[0].shape\n",
    "# np.where(df_new['BloodPressure'] == 0)[0].shape\n",
    "np.where(df_new['SkinThickness'] == 0)[0].shape\n",
    "# np.where(df_new['Insulin'] == 0)[0].shape\n",
    "# np.where(df_new['BMI'] == 0)[0].shape\n",
    "# np.where(df_new['DiabetesPedigreeFunction'] == 0)[0].shape\n",
    "# np.where(df_new['Age'] == 0)[0].shape\n"
   ]
  },
  {
   "cell_type": "code",
   "execution_count": null,
   "id": "f60cdd3c",
   "metadata": {
    "slideshow": {
     "slide_type": "slide"
    }
   },
   "outputs": [],
   "source": [
    "# Replacing zero values with NaN\n",
    "df_new[['Glucose',\n",
    " 'BloodPressure',\n",
    " 'SkinThickness',\n",
    " 'Insulin',\n",
    " 'BMI',\n",
    " 'DiabetesPedigreeFunction',\n",
    " 'Age']] = df_new[['Glucose',\n",
    " 'BloodPressure',\n",
    " 'SkinThickness',\n",
    " 'Insulin',\n",
    " 'BMI',\n",
    " 'DiabetesPedigreeFunction',\n",
    " 'Age']].replace(0, np.NaN) "
   ]
  },
  {
   "cell_type": "code",
   "execution_count": null,
   "id": "1081c2e4",
   "metadata": {
    "scrolled": true,
    "slideshow": {
     "slide_type": "slide"
    }
   },
   "outputs": [],
   "source": [
    "# Count of NaN\n",
    "df_new.isnull().sum()"
   ]
  },
  {
   "cell_type": "code",
   "execution_count": null,
   "id": "83d3cb72",
   "metadata": {
    "slideshow": {
     "slide_type": "slide"
    }
   },
   "outputs": [],
   "source": [
    "# Removing Features with too many zeros NaNs\n",
    "df_new = df_new.drop(['SkinThickness', 'Insulin'], axis = 1)\n",
    "\n",
    "# Removing Observations with NaNs\n",
    "df_new = df_new.dropna(subset=['Glucose'])\n",
    "df_new = df_new.dropna(subset=['BloodPressure'])\n",
    "df_new = df_new.dropna(subset=['BMI'])\n",
    "\n",
    "#dataset_new = dataset_new[dataset_new['Glucose'] != 0]\n",
    "#dataset_new = dataset_new[dataset_new['BloodPressure'] != 0]\n",
    "#dataset_new = dataset_new[dataset_new['BMI'] != 0]\n"
   ]
  },
  {
   "cell_type": "code",
   "execution_count": null,
   "id": "fdddbd1a",
   "metadata": {
    "scrolled": true,
    "slideshow": {
     "slide_type": "slide"
    }
   },
   "outputs": [],
   "source": [
    "# Statistical summary\n",
    "df_new.describe().T"
   ]
  },
  {
   "cell_type": "code",
   "execution_count": null,
   "id": "74ee4e8c",
   "metadata": {
    "slideshow": {
     "slide_type": "slide"
    }
   },
   "outputs": [],
   "source": [
    "# log transformation\n",
    "df_new['LogPregnancies'] = np.log1p(df_new['Pregnancies'])\n",
    "df_new['LogDiabetesPedigreeFunction'] = np.log1p(df_new['DiabetesPedigreeFunction'])\n",
    "df_new['LogAge'] = np.log1p(df_new['Age'])\n",
    "\n",
    "# Statistical summary\n",
    "df_new.describe().T\n"
   ]
  },
  {
   "cell_type": "code",
   "execution_count": null,
   "id": "7b5a5324",
   "metadata": {
    "slideshow": {
     "slide_type": "slide"
    }
   },
   "outputs": [],
   "source": [
    "# Histogram of each feature\n",
    "\n",
    "col = df_new.columns[:10]\n",
    "plt.subplots(figsize = (20, 15))\n",
    "length = len(col)\n",
    "\n",
    "for i, j in itertools.zip_longest(col, range(length)):\n",
    "    plt.subplot((length//2), 3, j + 1)\n",
    "    plt.subplots_adjust(wspace = 0.1,hspace = 0.5)\n",
    "    df_new[i].hist(bins = 20)\n",
    "    plt.title(i)\n",
    "plt.show()"
   ]
  },
  {
   "cell_type": "code",
   "execution_count": null,
   "id": "440008c6",
   "metadata": {
    "slideshow": {
     "slide_type": "slide"
    }
   },
   "outputs": [],
   "source": [
    "# Selecting features \n",
    "features = [\n",
    "    'LogPregnancies',\n",
    "    'Glucose',\n",
    "    'BloodPressure',\n",
    "    'BMI',\n",
    "    'LogDiabetesPedigreeFunction',\n",
    "    'LogAge'\n",
    "]\n",
    "\n",
    "# Splitting X and Y\n",
    "df_train, df_test = train_test_split(df_new, test_size = 0.20, random_state = 42, stratify = df_new['Outcome'] )\n",
    "\n",
    "X_train = df_train[features]\n",
    "Y_train = df_train['Outcome']\n",
    "X_test = df_test[features]\n",
    "Y_test = df_test['Outcome']\n"
   ]
  },
  {
   "cell_type": "code",
   "execution_count": null,
   "id": "bad8c802",
   "metadata": {
    "slideshow": {
     "slide_type": "slide"
    }
   },
   "outputs": [],
   "source": [
    "# Checking dimensions\n",
    "print(\"X_train shape:\", X_train.shape)\n",
    "print(\"X_test shape:\", X_test.shape)\n",
    "print(\"Y_train shape:\", Y_train.shape)\n",
    "print(\"Y_test shape:\", Y_test.shape)"
   ]
  },
  {
   "cell_type": "markdown",
   "id": "8e20b005",
   "metadata": {
    "slideshow": {
     "slide_type": "slide"
    }
   },
   "source": [
    "### Step 3: Data Modelling"
   ]
  },
  {
   "cell_type": "code",
   "execution_count": null,
   "id": "94ecfda4",
   "metadata": {
    "slideshow": {
     "slide_type": "slide"
    }
   },
   "outputs": [],
   "source": [
    "# Naive Bayes Algorithm\n",
    "nb = GaussianNB()\n",
    "nb.fit(X_train, Y_train)"
   ]
  },
  {
   "cell_type": "code",
   "execution_count": null,
   "id": "75e0afba",
   "metadata": {
    "slideshow": {
     "slide_type": "slide"
    }
   },
   "outputs": [],
   "source": [
    "# Making predictions on test dataset\n",
    "\n",
    "Y_pred_nb = nb.predict(X_test)\n"
   ]
  },
  {
   "cell_type": "markdown",
   "id": "853bd1f4",
   "metadata": {
    "slideshow": {
     "slide_type": "slide"
    }
   },
   "source": [
    "### Step 4: Model Evaluation"
   ]
  },
  {
   "cell_type": "code",
   "execution_count": null,
   "id": "5b9d4a02",
   "metadata": {
    "slideshow": {
     "slide_type": "slide"
    }
   },
   "outputs": [],
   "source": [
    "# Evaluating using accuracy_score metric\n",
    "\n",
    "accuracy_nb = accuracy_score(Y_test, Y_pred_nb)\n",
    "\n",
    "# Accuracy on test set\n",
    "print(\"Naive Bayes: \" + str(accuracy_nb * 100))"
   ]
  },
  {
   "cell_type": "code",
   "execution_count": null,
   "id": "f8ad454c",
   "metadata": {
    "slideshow": {
     "slide_type": "slide"
    }
   },
   "outputs": [],
   "source": [
    "# Confusion matrix\n",
    "cm = confusion_matrix(Y_test, Y_pred_nb)\n",
    "cm"
   ]
  },
  {
   "cell_type": "code",
   "execution_count": null,
   "id": "60002e02",
   "metadata": {
    "slideshow": {
     "slide_type": "slide"
    }
   },
   "outputs": [],
   "source": [
    "# Heatmap of Confusion matrix\n",
    "sns.heatmap(pd.DataFrame(cm))"
   ]
  },
  {
   "cell_type": "code",
   "execution_count": null,
   "id": "d341f836",
   "metadata": {
    "scrolled": true,
    "slideshow": {
     "slide_type": "slide"
    }
   },
   "outputs": [],
   "source": [
    "# Classification report\n",
    "\n",
    "print(classification_report(Y_test, Y_pred_nb))"
   ]
  },
  {
   "cell_type": "code",
   "execution_count": null,
   "id": "3db30139",
   "metadata": {
    "slideshow": {
     "slide_type": "slide"
    }
   },
   "outputs": [],
   "source": [
    "# Cross Validation\n",
    "X = df_new[features]\n",
    "y = df_new['Outcome']\n",
    "result = cross_val_score(nb, X, y, scoring = 'accuracy')\n",
    "# Recall: If we consider that the cost of not classifying someone with diabetes is high, \n",
    "# that failing to identify a sick patient (a false negative) is more dangerous \n",
    "# than incorrectly diagnosing a healthy patient as sick (a false positive).\n",
    "\n",
    "result.mean(), result.std()\n"
   ]
  },
  {
   "cell_type": "markdown",
   "id": "95e90706",
   "metadata": {
    "slideshow": {
     "slide_type": "slide"
    }
   },
   "source": [
    "## Practice: Multinomial Naive Bayes\n",
    "\n",
    "### BBC Full Text Document Classification <a class=\"tocSkip\">\n",
    "\n",
    "### Context <a class=\"tocSkip\">\n",
    "\n",
    "- The original dataset ([Kaggle Dataset](https://www.kaggle.com/datasets/dheemanthbhat/bbc-full-text-preprocessed)) \n",
    "consists of 2225 documents (as text files) from the BBC news website corresponding to news articles in five topical areas: \n",
    "    - business\n",
    "    - entertainment \n",
    "    - politics\n",
    "    - sport\n",
    "    - tech\n",
    "\n",
    "- **Objective**: The aim is to predict which topic does a news article belong to based on its content.\n",
    "\n",
    "### Assumption <a class=\"tocSkip\">\n",
    "    \n",
    "- The features $x_i$ represent the frequencies with which certain events have been generated by a multinomial distribution.    "
   ]
  },
  {
   "cell_type": "markdown",
   "id": "2759c9f4",
   "metadata": {
    "slideshow": {
     "slide_type": "slide"
    }
   },
   "source": [
    "### Step 0: Import Libraries and Dataset"
   ]
  },
  {
   "cell_type": "code",
   "execution_count": 183,
   "id": "0b1f216f",
   "metadata": {
    "slideshow": {
     "slide_type": "slide"
    }
   },
   "outputs": [
    {
     "name": "stderr",
     "output_type": "stream",
     "text": [
      "[nltk_data] Downloading package punkt to /Users/dcorde3/nltk_data...\n",
      "[nltk_data]   Package punkt is already up-to-date!\n",
      "[nltk_data] Downloading package stopwords to\n",
      "[nltk_data]     /Users/dcorde3/nltk_data...\n",
      "[nltk_data]   Package stopwords is already up-to-date!\n"
     ]
    }
   ],
   "source": [
    "import pandas as pd\n",
    "import numpy as np\n",
    "from sklearn.feature_extraction.text import CountVectorizer, TfidfVectorizer\n",
    "from sklearn.model_selection import train_test_split, cross_val_score\n",
    "from sklearn.naive_bayes import MultinomialNB\n",
    "from sklearn.metrics import accuracy_score, classification_report\n",
    "from sklearn.metrics import confusion_matrix, ConfusionMatrixDisplay\n",
    "from sklearn.pipeline import make_pipeline\n",
    "from nltk.corpus import stopwords\n",
    "from nltk.stem import PorterStemmer\n",
    "from nltk.tokenize import word_tokenize\n",
    "import nltk\n",
    "import string\n",
    "\n",
    "import warnings\n",
    "warnings.filterwarnings('ignore')\n",
    "\n",
    "# Download necessary NLTK resources\n",
    "nltk.download('punkt')\n",
    "nltk.download('stopwords')\n",
    "\n",
    "train_df: pd.DataFrame = pd.read_csv('https://raw.githubusercontent.com/davi-moreira/naive_bayes/main/data/mnist_train_subset.csv')\n",
    "test_df: pd.DataFrame = pd.read_csv('https://raw.githubusercontent.com/davi-moreira/naive_bayes/main/data/mnist_test.csv')\n",
    "\n",
    "\n",
    "# load data\n",
    "df = pd.read_csv('https://raw.githubusercontent.com/davi-moreira/naive_bayes/main/data/bbc_text_cls.csv')\n",
    "\n"
   ]
  },
  {
   "cell_type": "code",
   "execution_count": 184,
   "id": "e97500f8",
   "metadata": {
    "slideshow": {
     "slide_type": "slide"
    }
   },
   "outputs": [
    {
     "data": {
      "text/html": [
       "<div>\n",
       "<style scoped>\n",
       "    .dataframe tbody tr th:only-of-type {\n",
       "        vertical-align: middle;\n",
       "    }\n",
       "\n",
       "    .dataframe tbody tr th {\n",
       "        vertical-align: top;\n",
       "    }\n",
       "\n",
       "    .dataframe thead th {\n",
       "        text-align: right;\n",
       "    }\n",
       "</style>\n",
       "<table border=\"1\" class=\"dataframe\">\n",
       "  <thead>\n",
       "    <tr style=\"text-align: right;\">\n",
       "      <th></th>\n",
       "      <th>text</th>\n",
       "      <th>labels</th>\n",
       "    </tr>\n",
       "  </thead>\n",
       "  <tbody>\n",
       "    <tr>\n",
       "      <th>0</th>\n",
       "      <td>Ad sales boost Time Warner profit\\n\\nQuarterly...</td>\n",
       "      <td>business</td>\n",
       "    </tr>\n",
       "    <tr>\n",
       "      <th>1</th>\n",
       "      <td>Dollar gains on Greenspan speech\\n\\nThe dollar...</td>\n",
       "      <td>business</td>\n",
       "    </tr>\n",
       "    <tr>\n",
       "      <th>2</th>\n",
       "      <td>Yukos unit buyer faces loan claim\\n\\nThe owner...</td>\n",
       "      <td>business</td>\n",
       "    </tr>\n",
       "    <tr>\n",
       "      <th>3</th>\n",
       "      <td>High fuel prices hit BA's profits\\n\\nBritish A...</td>\n",
       "      <td>business</td>\n",
       "    </tr>\n",
       "    <tr>\n",
       "      <th>4</th>\n",
       "      <td>Pernod takeover talk lifts Domecq\\n\\nShares in...</td>\n",
       "      <td>business</td>\n",
       "    </tr>\n",
       "  </tbody>\n",
       "</table>\n",
       "</div>"
      ],
      "text/plain": [
       "                                                text    labels\n",
       "0  Ad sales boost Time Warner profit\\n\\nQuarterly...  business\n",
       "1  Dollar gains on Greenspan speech\\n\\nThe dollar...  business\n",
       "2  Yukos unit buyer faces loan claim\\n\\nThe owner...  business\n",
       "3  High fuel prices hit BA's profits\\n\\nBritish A...  business\n",
       "4  Pernod takeover talk lifts Domecq\\n\\nShares in...  business"
      ]
     },
     "execution_count": 184,
     "metadata": {},
     "output_type": "execute_result"
    }
   ],
   "source": [
    "# Preview data\n",
    "df.head()\n",
    "\n",
    "# len(df)"
   ]
  },
  {
   "cell_type": "markdown",
   "id": "6ae01cb2",
   "metadata": {
    "slideshow": {
     "slide_type": "slide"
    }
   },
   "source": [
    "### Step 1: Descriptive Statistics"
   ]
  },
  {
   "cell_type": "code",
   "execution_count": 185,
   "id": "9680bbc6",
   "metadata": {
    "slideshow": {
     "slide_type": "slide"
    }
   },
   "outputs": [
    {
     "data": {
      "image/png": "[encoded data removed]",
      "text/plain": [
       "<Figure size 720x360 with 1 Axes>"
      ]
     },
     "metadata": {
      "needs_background": "light"
     },
     "output_type": "display_data"
    }
   ],
   "source": [
    "# let's check labels frequency\n",
    "\n",
    "df['labels'].hist(figsize=(10, 5));"
   ]
  },
  {
   "cell_type": "markdown",
   "id": "f601556d",
   "metadata": {
    "slideshow": {
     "slide_type": "slide"
    }
   },
   "source": [
    "### Step 2: Data Preprocessing"
   ]
  },
  {
   "cell_type": "code",
   "execution_count": 186,
   "id": "e9e0f81d",
   "metadata": {
    "slideshow": {
     "slide_type": "slide"
    }
   },
   "outputs": [],
   "source": [
    "# Define the preprocessing function\n",
    "def preprocess_text(text):\n",
    "    # Handles the removal of stopwords and stemming\n",
    "    # Tokenize the text\n",
    "    tokens = word_tokenize(text)\n",
    "    # Remove punctuation and make lower case\n",
    "    tokens = [token.lower() for token in tokens if token.isalpha()]\n",
    "    # Remove stopwords\n",
    "    stop_words = set(stopwords.words('english'))\n",
    "    tokens = [token for token in tokens if token not in stop_words]\n",
    "    # Stem the words\n",
    "    stemmer = PorterStemmer()\n",
    "    tokens = [stemmer.stem(token) for token in tokens]\n",
    "    return ' '.join(tokens)"
   ]
  },
  {
   "cell_type": "code",
   "execution_count": null,
   "id": "bb7fbce6",
   "metadata": {},
   "outputs": [],
   "source": []
  },
  {
   "cell_type": "code",
   "execution_count": 187,
   "id": "284615f4",
   "metadata": {
    "slideshow": {
     "slide_type": "slide"
    }
   },
   "outputs": [],
   "source": [
    "# Apply the preprocessing to each row\n",
    "\n",
    "df['processed_text'] = df['text'].apply(preprocess_text)\n"
   ]
  },
  {
   "cell_type": "code",
   "execution_count": 188,
   "id": "ccf96799",
   "metadata": {
    "slideshow": {
     "slide_type": "slide"
    }
   },
   "outputs": [
    {
     "data": {
      "text/html": [
       "<div>\n",
       "<style scoped>\n",
       "    .dataframe tbody tr th:only-of-type {\n",
       "        vertical-align: middle;\n",
       "    }\n",
       "\n",
       "    .dataframe tbody tr th {\n",
       "        vertical-align: top;\n",
       "    }\n",
       "\n",
       "    .dataframe thead th {\n",
       "        text-align: right;\n",
       "    }\n",
       "</style>\n",
       "<table border=\"1\" class=\"dataframe\">\n",
       "  <thead>\n",
       "    <tr style=\"text-align: right;\">\n",
       "      <th></th>\n",
       "      <th>text</th>\n",
       "      <th>labels</th>\n",
       "      <th>processed_text</th>\n",
       "    </tr>\n",
       "  </thead>\n",
       "  <tbody>\n",
       "    <tr>\n",
       "      <th>0</th>\n",
       "      <td>Ad sales boost Time Warner profit\\n\\nQuarterly...</td>\n",
       "      <td>business</td>\n",
       "      <td>ad sale boost time warner profit quarterli pro...</td>\n",
       "    </tr>\n",
       "    <tr>\n",
       "      <th>1</th>\n",
       "      <td>Dollar gains on Greenspan speech\\n\\nThe dollar...</td>\n",
       "      <td>business</td>\n",
       "      <td>dollar gain greenspan speech dollar hit highes...</td>\n",
       "    </tr>\n",
       "    <tr>\n",
       "      <th>2</th>\n",
       "      <td>Yukos unit buyer faces loan claim\\n\\nThe owner...</td>\n",
       "      <td>business</td>\n",
       "      <td>yuko unit buyer face loan claim owner embattl ...</td>\n",
       "    </tr>\n",
       "    <tr>\n",
       "      <th>3</th>\n",
       "      <td>High fuel prices hit BA's profits\\n\\nBritish A...</td>\n",
       "      <td>business</td>\n",
       "      <td>high fuel price hit ba profit british airway b...</td>\n",
       "    </tr>\n",
       "    <tr>\n",
       "      <th>4</th>\n",
       "      <td>Pernod takeover talk lifts Domecq\\n\\nShares in...</td>\n",
       "      <td>business</td>\n",
       "      <td>pernod takeov talk lift domecq share uk drink ...</td>\n",
       "    </tr>\n",
       "  </tbody>\n",
       "</table>\n",
       "</div>"
      ],
      "text/plain": [
       "                                                text    labels  \\\n",
       "0  Ad sales boost Time Warner profit\\n\\nQuarterly...  business   \n",
       "1  Dollar gains on Greenspan speech\\n\\nThe dollar...  business   \n",
       "2  Yukos unit buyer faces loan claim\\n\\nThe owner...  business   \n",
       "3  High fuel prices hit BA's profits\\n\\nBritish A...  business   \n",
       "4  Pernod takeover talk lifts Domecq\\n\\nShares in...  business   \n",
       "\n",
       "                                      processed_text  \n",
       "0  ad sale boost time warner profit quarterli pro...  \n",
       "1  dollar gain greenspan speech dollar hit highes...  \n",
       "2  yuko unit buyer face loan claim owner embattl ...  \n",
       "3  high fuel price hit ba profit british airway b...  \n",
       "4  pernod takeov talk lift domecq share uk drink ...  "
      ]
     },
     "execution_count": 188,
     "metadata": {},
     "output_type": "execute_result"
    }
   ],
   "source": [
    "df.head()"
   ]
  },
  {
   "cell_type": "code",
   "execution_count": 189,
   "id": "c8de86d4",
   "metadata": {
    "slideshow": {
     "slide_type": "slide"
    }
   },
   "outputs": [],
   "source": [
    "# Split the data into features and labels\n",
    "features = df['processed_text']\n",
    "labels = df['labels']"
   ]
  },
  {
   "cell_type": "code",
   "execution_count": 190,
   "id": "ed721a14",
   "metadata": {
    "slideshow": {
     "slide_type": "slide"
    }
   },
   "outputs": [],
   "source": [
    "# Split the data into train and test sets\n",
    "\n",
    "features_train, features_test, labels_train, labels_test = train_test_split(features, labels, \n",
    "                                                                            test_size=0.2, \n",
    "                                                                            random_state=123)\n"
   ]
  },
  {
   "cell_type": "code",
   "execution_count": 191,
   "id": "cbad4251",
   "metadata": {
    "slideshow": {
     "slide_type": "slide"
    }
   },
   "outputs": [],
   "source": [
    "# Create a text processing and classification pipeline\n",
    "\n",
    "pipeline = make_pipeline(\n",
    "    # Bag of Words\n",
    "    # Convert the processed text into a matrix of token counts, \n",
    "    # which is then used as input to the MultinomialNB classifier\n",
    "    CountVectorizer(),\n",
    "    MultinomialNB()\n",
    ")"
   ]
  },
  {
   "cell_type": "markdown",
   "id": "af0ace1f",
   "metadata": {
    "slideshow": {
     "slide_type": "slide"
    }
   },
   "source": [
    "### Step 3: Data Modeling"
   ]
  },
  {
   "cell_type": "code",
   "execution_count": 192,
   "id": "839b3cb9",
   "metadata": {
    "slideshow": {
     "slide_type": "slide"
    }
   },
   "outputs": [
    {
     "data": {
      "text/html": [
       "<style>#sk-container-id-8 {\n",
       "  /* Definition of color scheme common for light and dark mode */\n",
       "  --sklearn-color-text: black;\n",
       "  --sklearn-color-line: gray;\n",
       "  /* Definition of color scheme for unfitted estimators */\n",
       "  --sklearn-color-unfitted-level-0: #fff5e6;\n",
       "  --sklearn-color-unfitted-level-1: #f6e4d2;\n",
       "  --sklearn-color-unfitted-level-2: #ffe0b3;\n",
       "  --sklearn-color-unfitted-level-3: chocolate;\n",
       "  /* Definition of color scheme for fitted estimators */\n",
       "  --sklearn-color-fitted-level-0: #f0f8ff;\n",
       "  --sklearn-color-fitted-level-1: #d4ebff;\n",
       "  --sklearn-color-fitted-level-2: #b3dbfd;\n",
       "  --sklearn-color-fitted-level-3: cornflowerblue;\n",
       "\n",
       "  /* Specific color for light theme */\n",
       "  --sklearn-color-text-on-default-background: var(--sg-text-color, var(--theme-code-foreground, var(--jp-content-font-color1, black)));\n",
       "  --sklearn-color-background: var(--sg-background-color, var(--theme-background, var(--jp-layout-color0, white)));\n",
       "  --sklearn-color-border-box: var(--sg-text-color, var(--theme-code-foreground, var(--jp-content-font-color1, black)));\n",
       "  --sklearn-color-icon: #696969;\n",
       "\n",
       "  @media (prefers-color-scheme: dark) {\n",
       "    /* Redefinition of color scheme for dark theme */\n",
       "    --sklearn-color-text-on-default-background: var(--sg-text-color, var(--theme-code-foreground, var(--jp-content-font-color1, white)));\n",
       "    --sklearn-color-background: var(--sg-background-color, var(--theme-background, var(--jp-layout-color0, #111)));\n",
       "    --sklearn-color-border-box: var(--sg-text-color, var(--theme-code-foreground, var(--jp-content-font-color1, white)));\n",
       "    --sklearn-color-icon: #878787;\n",
       "  }\n",
       "}\n",
       "\n",
       "#sk-container-id-8 {\n",
       "  color: var(--sklearn-color-text);\n",
       "}\n",
       "\n",
       "#sk-container-id-8 pre {\n",
       "  padding: 0;\n",
       "}\n",
       "\n",
       "#sk-container-id-8 input.sk-hidden--visually {\n",
       "  border: 0;\n",
       "  clip: rect(1px 1px 1px 1px);\n",
       "  clip: rect(1px, 1px, 1px, 1px);\n",
       "  height: 1px;\n",
       "  margin: -1px;\n",
       "  overflow: hidden;\n",
       "  padding: 0;\n",
       "  position: absolute;\n",
       "  width: 1px;\n",
       "}\n",
       "\n",
       "#sk-container-id-8 div.sk-dashed-wrapped {\n",
       "  border: 1px dashed var(--sklearn-color-line);\n",
       "  margin: 0 0.4em 0.5em 0.4em;\n",
       "  box-sizing: border-box;\n",
       "  padding-bottom: 0.4em;\n",
       "  background-color: var(--sklearn-color-background);\n",
       "}\n",
       "\n",
       "#sk-container-id-8 div.sk-container {\n",
       "  /* jupyter's `normalize.less` sets `[hidden] { display: none; }`\n",
       "     but bootstrap.min.css set `[hidden] { display: none !important; }`\n",
       "     so we also need the `!important` here to be able to override the\n",
       "     default hidden behavior on the sphinx rendered scikit-learn.org.\n",
       "     See: https://github.com/scikit-learn/scikit-learn/issues/21755 */\n",
       "  display: inline-block !important;\n",
       "  position: relative;\n",
       "}\n",
       "\n",
       "#sk-container-id-8 div.sk-text-repr-fallback {\n",
       "  display: none;\n",
       "}\n",
       "\n",
       "div.sk-parallel-item,\n",
       "div.sk-serial,\n",
       "div.sk-item {\n",
       "  /* draw centered vertical line to link estimators */\n",
       "  background-image: linear-gradient(var(--sklearn-color-text-on-default-background), var(--sklearn-color-text-on-default-background));\n",
       "  background-size: 2px 100%;\n",
       "  background-repeat: no-repeat;\n",
       "  background-position: center center;\n",
       "}\n",
       "\n",
       "/* Parallel-specific style estimator block */\n",
       "\n",
       "#sk-container-id-8 div.sk-parallel-item::after {\n",
       "  content: \"\";\n",
       "  width: 100%;\n",
       "  border-bottom: 2px solid var(--sklearn-color-text-on-default-background);\n",
       "  flex-grow: 1;\n",
       "}\n",
       "\n",
       "#sk-container-id-8 div.sk-parallel {\n",
       "  display: flex;\n",
       "  align-items: stretch;\n",
       "  justify-content: center;\n",
       "  background-color: var(--sklearn-color-background);\n",
       "  position: relative;\n",
       "}\n",
       "\n",
       "#sk-container-id-8 div.sk-parallel-item {\n",
       "  display: flex;\n",
       "  flex-direction: column;\n",
       "}\n",
       "\n",
       "#sk-container-id-8 div.sk-parallel-item:first-child::after {\n",
       "  align-self: flex-end;\n",
       "  width: 50%;\n",
       "}\n",
       "\n",
       "#sk-container-id-8 div.sk-parallel-item:last-child::after {\n",
       "  align-self: flex-start;\n",
       "  width: 50%;\n",
       "}\n",
       "\n",
       "#sk-container-id-8 div.sk-parallel-item:only-child::after {\n",
       "  width: 0;\n",
       "}\n",
       "\n",
       "/* Serial-specific style estimator block */\n",
       "\n",
       "#sk-container-id-8 div.sk-serial {\n",
       "  display: flex;\n",
       "  flex-direction: column;\n",
       "  align-items: center;\n",
       "  background-color: var(--sklearn-color-background);\n",
       "  padding-right: 1em;\n",
       "  padding-left: 1em;\n",
       "}\n",
       "\n",
       "\n",
       "/* Toggleable style: style used for estimator/Pipeline/ColumnTransformer box that is\n",
       "clickable and can be expanded/collapsed.\n",
       "- Pipeline and ColumnTransformer use this feature and define the default style\n",
       "- Estimators will overwrite some part of the style using the `sk-estimator` class\n",
       "*/\n",
       "\n",
       "/* Pipeline and ColumnTransformer style (default) */\n",
       "\n",
       "#sk-container-id-8 div.sk-toggleable {\n",
       "  /* Default theme specific background. It is overwritten whether we have a\n",
       "  specific estimator or a Pipeline/ColumnTransformer */\n",
       "  background-color: var(--sklearn-color-background);\n",
       "}\n",
       "\n",
       "/* Toggleable label */\n",
       "#sk-container-id-8 label.sk-toggleable__label {\n",
       "  cursor: pointer;\n",
       "  display: block;\n",
       "  width: 100%;\n",
       "  margin-bottom: 0;\n",
       "  padding: 0.5em;\n",
       "  box-sizing: border-box;\n",
       "  text-align: center;\n",
       "}\n",
       "\n",
       "#sk-container-id-8 label.sk-toggleable__label-arrow:before {\n",
       "  /* Arrow on the left of the label */\n",
       "  content: \"▸\";\n",
       "  float: left;\n",
       "  margin-right: 0.25em;\n",
       "  color: var(--sklearn-color-icon);\n",
       "}\n",
       "\n",
       "#sk-container-id-8 label.sk-toggleable__label-arrow:hover:before {\n",
       "  color: var(--sklearn-color-text);\n",
       "}\n",
       "\n",
       "/* Toggleable content - dropdown */\n",
       "\n",
       "#sk-container-id-8 div.sk-toggleable__content {\n",
       "  max-height: 0;\n",
       "  max-width: 0;\n",
       "  overflow: hidden;\n",
       "  text-align: left;\n",
       "  /* unfitted */\n",
       "  background-color: var(--sklearn-color-unfitted-level-0);\n",
       "}\n",
       "\n",
       "#sk-container-id-8 div.sk-toggleable__content.fitted {\n",
       "  /* fitted */\n",
       "  background-color: var(--sklearn-color-fitted-level-0);\n",
       "}\n",
       "\n",
       "#sk-container-id-8 div.sk-toggleable__content pre {\n",
       "  margin: 0.2em;\n",
       "  border-radius: 0.25em;\n",
       "  color: var(--sklearn-color-text);\n",
       "  /* unfitted */\n",
       "  background-color: var(--sklearn-color-unfitted-level-0);\n",
       "}\n",
       "\n",
       "#sk-container-id-8 div.sk-toggleable__content.fitted pre {\n",
       "  /* unfitted */\n",
       "  background-color: var(--sklearn-color-fitted-level-0);\n",
       "}\n",
       "\n",
       "#sk-container-id-8 input.sk-toggleable__control:checked~div.sk-toggleable__content {\n",
       "  /* Expand drop-down */\n",
       "  max-height: 200px;\n",
       "  max-width: 100%;\n",
       "  overflow: auto;\n",
       "}\n",
       "\n",
       "#sk-container-id-8 input.sk-toggleable__control:checked~label.sk-toggleable__label-arrow:before {\n",
       "  content: \"▾\";\n",
       "}\n",
       "\n",
       "/* Pipeline/ColumnTransformer-specific style */\n",
       "\n",
       "#sk-container-id-8 div.sk-label input.sk-toggleable__control:checked~label.sk-toggleable__label {\n",
       "  color: var(--sklearn-color-text);\n",
       "  background-color: var(--sklearn-color-unfitted-level-2);\n",
       "}\n",
       "\n",
       "#sk-container-id-8 div.sk-label.fitted input.sk-toggleable__control:checked~label.sk-toggleable__label {\n",
       "  background-color: var(--sklearn-color-fitted-level-2);\n",
       "}\n",
       "\n",
       "/* Estimator-specific style */\n",
       "\n",
       "/* Colorize estimator box */\n",
       "#sk-container-id-8 div.sk-estimator input.sk-toggleable__control:checked~label.sk-toggleable__label {\n",
       "  /* unfitted */\n",
       "  background-color: var(--sklearn-color-unfitted-level-2);\n",
       "}\n",
       "\n",
       "#sk-container-id-8 div.sk-estimator.fitted input.sk-toggleable__control:checked~label.sk-toggleable__label {\n",
       "  /* fitted */\n",
       "  background-color: var(--sklearn-color-fitted-level-2);\n",
       "}\n",
       "\n",
       "#sk-container-id-8 div.sk-label label.sk-toggleable__label,\n",
       "#sk-container-id-8 div.sk-label label {\n",
       "  /* The background is the default theme color */\n",
       "  color: var(--sklearn-color-text-on-default-background);\n",
       "}\n",
       "\n",
       "/* On hover, darken the color of the background */\n",
       "#sk-container-id-8 div.sk-label:hover label.sk-toggleable__label {\n",
       "  color: var(--sklearn-color-text);\n",
       "  background-color: var(--sklearn-color-unfitted-level-2);\n",
       "}\n",
       "\n",
       "/* Label box, darken color on hover, fitted */\n",
       "#sk-container-id-8 div.sk-label.fitted:hover label.sk-toggleable__label.fitted {\n",
       "  color: var(--sklearn-color-text);\n",
       "  background-color: var(--sklearn-color-fitted-level-2);\n",
       "}\n",
       "\n",
       "/* Estimator label */\n",
       "\n",
       "#sk-container-id-8 div.sk-label label {\n",
       "  font-family: monospace;\n",
       "  font-weight: bold;\n",
       "  display: inline-block;\n",
       "  line-height: 1.2em;\n",
       "}\n",
       "\n",
       "#sk-container-id-8 div.sk-label-container {\n",
       "  text-align: center;\n",
       "}\n",
       "\n",
       "/* Estimator-specific */\n",
       "#sk-container-id-8 div.sk-estimator {\n",
       "  font-family: monospace;\n",
       "  border: 1px dotted var(--sklearn-color-border-box);\n",
       "  border-radius: 0.25em;\n",
       "  box-sizing: border-box;\n",
       "  margin-bottom: 0.5em;\n",
       "  /* unfitted */\n",
       "  background-color: var(--sklearn-color-unfitted-level-0);\n",
       "}\n",
       "\n",
       "#sk-container-id-8 div.sk-estimator.fitted {\n",
       "  /* fitted */\n",
       "  background-color: var(--sklearn-color-fitted-level-0);\n",
       "}\n",
       "\n",
       "/* on hover */\n",
       "#sk-container-id-8 div.sk-estimator:hover {\n",
       "  /* unfitted */\n",
       "  background-color: var(--sklearn-color-unfitted-level-2);\n",
       "}\n",
       "\n",
       "#sk-container-id-8 div.sk-estimator.fitted:hover {\n",
       "  /* fitted */\n",
       "  background-color: var(--sklearn-color-fitted-level-2);\n",
       "}\n",
       "\n",
       "/* Specification for estimator info (e.g. \"i\" and \"?\") */\n",
       "\n",
       "/* Common style for \"i\" and \"?\" */\n",
       "\n",
       ".sk-estimator-doc-link,\n",
       "a:link.sk-estimator-doc-link,\n",
       "a:visited.sk-estimator-doc-link {\n",
       "  float: right;\n",
       "  font-size: smaller;\n",
       "  line-height: 1em;\n",
       "  font-family: monospace;\n",
       "  background-color: var(--sklearn-color-background);\n",
       "  border-radius: 1em;\n",
       "  height: 1em;\n",
       "  width: 1em;\n",
       "  text-decoration: none !important;\n",
       "  margin-left: 1ex;\n",
       "  /* unfitted */\n",
       "  border: var(--sklearn-color-unfitted-level-1) 1pt solid;\n",
       "  color: var(--sklearn-color-unfitted-level-1);\n",
       "}\n",
       "\n",
       ".sk-estimator-doc-link.fitted,\n",
       "a:link.sk-estimator-doc-link.fitted,\n",
       "a:visited.sk-estimator-doc-link.fitted {\n",
       "  /* fitted */\n",
       "  border: var(--sklearn-color-fitted-level-1) 1pt solid;\n",
       "  color: var(--sklearn-color-fitted-level-1);\n",
       "}\n",
       "\n",
       "/* On hover */\n",
       "div.sk-estimator:hover .sk-estimator-doc-link:hover,\n",
       ".sk-estimator-doc-link:hover,\n",
       "div.sk-label-container:hover .sk-estimator-doc-link:hover,\n",
       ".sk-estimator-doc-link:hover {\n",
       "  /* unfitted */\n",
       "  background-color: var(--sklearn-color-unfitted-level-3);\n",
       "  color: var(--sklearn-color-background);\n",
       "  text-decoration: none;\n",
       "}\n",
       "\n",
       "div.sk-estimator.fitted:hover .sk-estimator-doc-link.fitted:hover,\n",
       ".sk-estimator-doc-link.fitted:hover,\n",
       "div.sk-label-container:hover .sk-estimator-doc-link.fitted:hover,\n",
       ".sk-estimator-doc-link.fitted:hover {\n",
       "  /* fitted */\n",
       "  background-color: var(--sklearn-color-fitted-level-3);\n",
       "  color: var(--sklearn-color-background);\n",
       "  text-decoration: none;\n",
       "}\n",
       "\n",
       "/* Span, style for the box shown on hovering the info icon */\n",
       ".sk-estimator-doc-link span {\n",
       "  display: none;\n",
       "  z-index: 9999;\n",
       "  position: relative;\n",
       "  font-weight: normal;\n",
       "  right: .2ex;\n",
       "  padding: .5ex;\n",
       "  margin: .5ex;\n",
       "  width: min-content;\n",
       "  min-width: 20ex;\n",
       "  max-width: 50ex;\n",
       "  color: var(--sklearn-color-text);\n",
       "  box-shadow: 2pt 2pt 4pt #999;\n",
       "  /* unfitted */\n",
       "  background: var(--sklearn-color-unfitted-level-0);\n",
       "  border: .5pt solid var(--sklearn-color-unfitted-level-3);\n",
       "}\n",
       "\n",
       ".sk-estimator-doc-link.fitted span {\n",
       "  /* fitted */\n",
       "  background: var(--sklearn-color-fitted-level-0);\n",
       "  border: var(--sklearn-color-fitted-level-3);\n",
       "}\n",
       "\n",
       ".sk-estimator-doc-link:hover span {\n",
       "  display: block;\n",
       "}\n",
       "\n",
       "/* \"?\"-specific style due to the `<a>` HTML tag */\n",
       "\n",
       "#sk-container-id-8 a.estimator_doc_link {\n",
       "  float: right;\n",
       "  font-size: 1rem;\n",
       "  line-height: 1em;\n",
       "  font-family: monospace;\n",
       "  background-color: var(--sklearn-color-background);\n",
       "  border-radius: 1rem;\n",
       "  height: 1rem;\n",
       "  width: 1rem;\n",
       "  text-decoration: none;\n",
       "  /* unfitted */\n",
       "  color: var(--sklearn-color-unfitted-level-1);\n",
       "  border: var(--sklearn-color-unfitted-level-1) 1pt solid;\n",
       "}\n",
       "\n",
       "#sk-container-id-8 a.estimator_doc_link.fitted {\n",
       "  /* fitted */\n",
       "  border: var(--sklearn-color-fitted-level-1) 1pt solid;\n",
       "  color: var(--sklearn-color-fitted-level-1);\n",
       "}\n",
       "\n",
       "/* On hover */\n",
       "#sk-container-id-8 a.estimator_doc_link:hover {\n",
       "  /* unfitted */\n",
       "  background-color: var(--sklearn-color-unfitted-level-3);\n",
       "  color: var(--sklearn-color-background);\n",
       "  text-decoration: none;\n",
       "}\n",
       "\n",
       "#sk-container-id-8 a.estimator_doc_link.fitted:hover {\n",
       "  /* fitted */\n",
       "  background-color: var(--sklearn-color-fitted-level-3);\n",
       "}\n",
       "</style><div id=\"sk-container-id-8\" class=\"sk-top-container\"><div class=\"sk-text-repr-fallback\"><pre>Pipeline(steps=[(&#x27;countvectorizer&#x27;, CountVectorizer()),\n",
       "                (&#x27;multinomialnb&#x27;, MultinomialNB())])</pre><b>In a Jupyter environment, please rerun this cell to show the HTML representation or trust the notebook. <br />On GitHub, the HTML representation is unable to render, please try loading this page with nbviewer.org.</b></div><div class=\"sk-container\" hidden><div class=\"sk-item sk-dashed-wrapped\"><div class=\"sk-label-container\"><div class=\"sk-label fitted sk-toggleable\"><input class=\"sk-toggleable__control sk-hidden--visually\" id=\"sk-estimator-id-14\" type=\"checkbox\" ><label for=\"sk-estimator-id-14\" class=\"sk-toggleable__label fitted sk-toggleable__label-arrow fitted\">&nbsp;&nbsp;Pipeline<a class=\"sk-estimator-doc-link fitted\" rel=\"noreferrer\" target=\"_blank\" href=\"https://scikit-learn.org/1.4/modules/generated/sklearn.pipeline.Pipeline.html\">?<span>Documentation for Pipeline</span></a><span class=\"sk-estimator-doc-link fitted\">i<span>Fitted</span></span></label><div class=\"sk-toggleable__content fitted\"><pre>Pipeline(steps=[(&#x27;countvectorizer&#x27;, CountVectorizer()),\n",
       "                (&#x27;multinomialnb&#x27;, MultinomialNB())])</pre></div> </div></div><div class=\"sk-serial\"><div class=\"sk-item\"><div class=\"sk-estimator fitted sk-toggleable\"><input class=\"sk-toggleable__control sk-hidden--visually\" id=\"sk-estimator-id-15\" type=\"checkbox\" ><label for=\"sk-estimator-id-15\" class=\"sk-toggleable__label fitted sk-toggleable__label-arrow fitted\">&nbsp;CountVectorizer<a class=\"sk-estimator-doc-link fitted\" rel=\"noreferrer\" target=\"_blank\" href=\"https://scikit-learn.org/1.4/modules/generated/sklearn.feature_extraction.text.CountVectorizer.html\">?<span>Documentation for CountVectorizer</span></a></label><div class=\"sk-toggleable__content fitted\"><pre>CountVectorizer()</pre></div> </div></div><div class=\"sk-item\"><div class=\"sk-estimator fitted sk-toggleable\"><input class=\"sk-toggleable__control sk-hidden--visually\" id=\"sk-estimator-id-16\" type=\"checkbox\" ><label for=\"sk-estimator-id-16\" class=\"sk-toggleable__label fitted sk-toggleable__label-arrow fitted\">&nbsp;MultinomialNB<a class=\"sk-estimator-doc-link fitted\" rel=\"noreferrer\" target=\"_blank\" href=\"https://scikit-learn.org/1.4/modules/generated/sklearn.naive_bayes.MultinomialNB.html\">?<span>Documentation for MultinomialNB</span></a></label><div class=\"sk-toggleable__content fitted\"><pre>MultinomialNB()</pre></div> </div></div></div></div></div></div>"
      ],
      "text/plain": [
       "Pipeline(steps=[('countvectorizer', CountVectorizer()),\n",
       "                ('multinomialnb', MultinomialNB())])"
      ]
     },
     "execution_count": 192,
     "metadata": {},
     "output_type": "execute_result"
    }
   ],
   "source": [
    "# Train the model\n",
    "\n",
    "pipeline.fit(features_train, labels_train)\n"
   ]
  },
  {
   "cell_type": "code",
   "execution_count": 193,
   "id": "51eb6ee7",
   "metadata": {
    "slideshow": {
     "slide_type": "slide"
    }
   },
   "outputs": [],
   "source": [
    "# Predict on the test set\n",
    "labels_pred = pipeline.predict(features_test)"
   ]
  },
  {
   "cell_type": "markdown",
   "id": "f77d9104",
   "metadata": {
    "slideshow": {
     "slide_type": "slide"
    }
   },
   "source": [
    "### Step 4: Model Evaluation"
   ]
  },
  {
   "cell_type": "code",
   "execution_count": 194,
   "id": "f3673325",
   "metadata": {
    "slideshow": {
     "slide_type": "slide"
    }
   },
   "outputs": [
    {
     "name": "stdout",
     "output_type": "stream",
     "text": [
      "Train-test split evaluation:\n",
      "               precision    recall  f1-score   support\n",
      "\n",
      "     business       0.96      0.94      0.95        86\n",
      "entertainment       1.00      0.93      0.96        82\n",
      "     politics       0.92      0.97      0.94        95\n",
      "        sport       0.99      1.00      1.00       107\n",
      "         tech       0.95      0.97      0.96        75\n",
      "\n",
      "     accuracy                           0.96       445\n",
      "    macro avg       0.96      0.96      0.96       445\n",
      " weighted avg       0.97      0.96      0.96       445\n",
      "\n",
      "Accuracy: 0.9640449438202248\n"
     ]
    }
   ],
   "source": [
    "# Evaluate the model using train-test split\n",
    "print(\"Train-test split evaluation:\")\n",
    "print(classification_report(labels_test, labels_pred))\n",
    "print(f\"Accuracy: {accuracy_score(labels_test, labels_pred)}\")"
   ]
  },
  {
   "cell_type": "code",
   "execution_count": 195,
   "id": "09f7017d",
   "metadata": {
    "slideshow": {
     "slide_type": "slide"
    }
   },
   "outputs": [
    {
     "name": "stdout",
     "output_type": "stream",
     "text": [
      "\n",
      "Cross-validation evaluation:\n",
      "Cross-validated accuracy: 0.9764044943820224\n"
     ]
    }
   ],
   "source": [
    "# Evaluate the model using cross-validation\n",
    "\n",
    "cross_val_accuracy = cross_val_score(pipeline, features_train, labels_train, cv=5, scoring='accuracy')\n",
    "\n",
    "print(\"\\nCross-validation evaluation:\")\n",
    "print(f\"Cross-validated accuracy: {np.mean(cross_val_accuracy)}\")\n"
   ]
  },
  {
   "cell_type": "code",
   "execution_count": 196,
   "id": "d43d56b9",
   "metadata": {
    "slideshow": {
     "slide_type": "slide"
    }
   },
   "outputs": [
    {
     "data": {
      "text/plain": [
       "<sklearn.metrics._plot.confusion_matrix.ConfusionMatrixDisplay at 0x7f9ab94e4f40>"
      ]
     },
     "execution_count": 196,
     "metadata": {},
     "output_type": "execute_result"
    },
    {
     "data": {
      "image/png": "[encoded data removed]",
      "text/plain": [
       "<Figure size 432x288 with 2 Axes>"
      ]
     },
     "metadata": {
      "needs_background": "light"
     },
     "output_type": "display_data"
    }
   ],
   "source": [
    "# Confusion Matrix Display\n",
    "ConfusionMatrixDisplay.from_predictions(labels_test, labels_pred)\n"
   ]
  },
  {
   "cell_type": "code",
   "execution_count": 198,
   "id": "da47e0e1",
   "metadata": {
    "slideshow": {
     "slide_type": "slide"
    }
   },
   "outputs": [
    {
     "name": "stdout",
     "output_type": "stream",
     "text": [
      "True class: politics\n",
      "Predicted class: business\n"
     ]
    },
    {
     "data": {
      "text/plain": [
       "['EU fraud clampdown urged\\n\\nEU member states are failing to report fraud and irregularities in EU funds on a consistent basis, the UK\\'s public spending watchdog has said.\\n\\nThe National Audit Office said although the latest figures showed reported fraud was falling, the EU still had no common definition of fraud. It also expressed concern that, for the 10th year, the European Court of Auditors had qualified the EU accounts. The NAO urged the government to push for improvements in reporting fraud. It said member states needed to be more accountable on how money was spent. The report said: \"Member states still do not report fraud and other irregularities to the European Anti-Fraud Office on a consistent basis.\\n\\n\"As the court has now qualified its opinion on the Community accounts for a decade, it is essential for all the authorities involved to contribute to the strengthening of the audit of EU revenue and expenditure and improving accountability for the financial management and use of EU resources.\" It said there were 922 cases of reported fraud or irregularities in EU funds in the UK in 2003, worth £38.5m (52m euros), up from 831 cases worth £35.7m in 2002. At the same time, reported fraud throughout the EU dropped from 10,276 cases worth £808m to 8,177 cases worth £644m. Edward Leigh, chairman of the Commons public accounts committee, said Britain had to set an example when it assumed the EU presidency.\\n\\n\"Any fraud in other member states is potentially fraud against the UK taxpayer, given that we are the second largest net contributor to the Community,\" he said. \"Departments responsible for administering EU funds need to make sure that they\\'re doing everything possible to weed out improper spending. \"The government must take the opportunity afforded by the UK presidency of the EU to press the Commission and other member states to take an equally robust stance against fraud and irregularity, and raise overall standards of financial management.\" A spokesman for the European Anti-Fraud Office said the organisation agreed with the NAO\\'s assessment of fraud reporting. \"The quality of reporting does differ from member state to member state, and there is room for improvement,\" spokesman Jorg Wojahn said. He added that there is generally good co-operation with member states and the anti-fraud office on specific cases of fraud, with the statistics studied by NAO providing a \"good overview for planning strategic ways of detecting fraud\".']"
      ]
     },
     "execution_count": 198,
     "metadata": {},
     "output_type": "execute_result"
    }
   ],
   "source": [
    "# Let's Check Some Misclassified Examples\n",
    "\n",
    "# identifying misclassified examples\n",
    "misclassified_idx = np.where(labels_pred != labels_test)[0]\n",
    "\n",
    "# random select a misclassified example\n",
    "i = np.random.choice(misclassified_idx)\n",
    "\n",
    "print(\"True class:\", labels_test.iloc[i])\n",
    "print(\"Predicted class:\", labels_pred[i])\n",
    "\n",
    "# The specific element from 'features_test'\n",
    "specific_element = features_test.iloc[i]\n",
    "\n",
    "# Find the indices where the 'text' column in the DataFrame matches the specific element\n",
    "matching_indices = df.index[df['processed_text'] == specific_element].tolist()\n",
    "\n",
    "# Print text\n",
    "list(df.iloc[matching_indices,0])\n"
   ]
  },
  {
   "cell_type": "code",
   "execution_count": 199,
   "id": "95edd7a2",
   "metadata": {
    "slideshow": {
     "slide_type": "slide"
    }
   },
   "outputs": [
    {
     "name": "stdout",
     "output_type": "stream",
     "text": [
      "       business entertainment politics    sport       tech\n",
      "Top 1      said          film     said     said       said\n",
      "Top 2      year          said       mr     play        use\n",
      "Top 3        us          year    would     game      peopl\n",
      "Top 4   compani          best   govern      win       game\n",
      "Top 5        mr         award   labour   player  technolog\n",
      "Top 6      firm         music    elect  england      mobil\n",
      "Top 7    market          star    parti     year      phone\n",
      "Top 8     would          show      say    first     servic\n",
      "Top 9      also           one    peopl    would       also\n",
      "Top 10     bank          also    blair     time        new\n"
     ]
    }
   ],
   "source": [
    "\n",
    "# Get the feature names and the log probability of features given a class\n",
    "feature_names = pipeline.named_steps['countvectorizer'].get_feature_names_out()\n",
    "feature_log_prob = pipeline.named_steps['multinomialnb'].feature_log_prob_\n",
    "\n",
    "# Create a DataFrame to hold the top words for each category\n",
    "top_words_per_category = pd.DataFrame()\n",
    "\n",
    "for i, category in enumerate(pipeline.named_steps['multinomialnb'].classes_):\n",
    "    # Get the indices of the top 10 features for this class\n",
    "    top_indices = np.argsort(feature_log_prob[i])[-10:]\n",
    "    # Get the associated words and probabilities\n",
    "    top_features = feature_names[top_indices]\n",
    "    top_probabilities = np.exp(feature_log_prob[i][top_indices])\n",
    "    # Add to the DataFrame\n",
    "    top_words_per_category[category] = top_features[::-1]  # Reverse to show the top word at first\n",
    "\n",
    "# Transpose the DataFrame to have categories as columns and words as rows\n",
    "top_words_per_category = top_words_per_category.T\n",
    "top_words_per_category.columns = [f'Top {i+1}' for i in range(top_words_per_category.shape[1])]\n",
    "\n",
    "# Print the table\n",
    "print(top_words_per_category.transpose())\n"
   ]
  },
  {
   "cell_type": "markdown",
   "id": "86aa5515",
   "metadata": {
    "slideshow": {
     "slide_type": "slide"
    }
   },
   "source": [
    "## Practice: Bernoullil Naive Bayes\n",
    "\n",
    "### Context <a class=\"tocSkip\">\n",
    "\n",
    "- The original [Kaggle Dataset](https://www.kaggle.com/datasets/oddrationale/mnist-in-csv) contains the 60,000 training examples and labels in addition to 10,000 test examples and labels. Each row consists of 785 values: the first value is the label (a number from 0 to 9) and the remaining 784 values are the pixel values (a number from 0 to 255).\n",
    "    \n",
    "- For our purposes in the lecture, 33,000 random training examples were removed from the original dataset.\n",
    "    \n",
    "- **Objective**: The aim is to predict the correct digit based on the hand-written image.\n",
    "    \n",
    "### Assumption <a class=\"tocSkip\">\n",
    "    \n",
    "- The features $x_i$ are binary (Boolean) variables indicating the presence or absence of a feature.\n"
   ]
  },
  {
   "cell_type": "markdown",
   "id": "a30772e1",
   "metadata": {
    "slideshow": {
     "slide_type": "slide"
    }
   },
   "source": [
    "### Step 0: Import libraries and Dataset"
   ]
  },
  {
   "cell_type": "code",
   "execution_count": 200,
   "id": "604c8b5a",
   "metadata": {
    "slideshow": {
     "slide_type": "slide"
    }
   },
   "outputs": [],
   "source": [
    "import os\n",
    "import cv2\n",
    "import numpy as np\n",
    "import pandas as pd\n",
    "import seaborn as sns\n",
    "from sklearn.model_selection import cross_val_score\n",
    "from sklearn.model_selection import StratifiedKFold\n",
    "from sklearn.naive_bayes import GaussianNB, BernoulliNB\n",
    "from sklearn.metrics import confusion_matrix, classification_report, ConfusionMatrixDisplay\n",
    "from matplotlib import pyplot as plt\n",
    "from typing import List\n"
   ]
  },
  {
   "cell_type": "code",
   "execution_count": 201,
   "id": "3d139166",
   "metadata": {
    "slideshow": {
     "slide_type": "slide"
    }
   },
   "outputs": [],
   "source": [
    "train_df: pd.DataFrame = pd.read_csv('https://raw.githubusercontent.com/davi-moreira/naive_bayes/main/data/mnist_train_subset.csv')\n",
    "test_df: pd.DataFrame = pd.read_csv('https://raw.githubusercontent.com/davi-moreira/naive_bayes/main/data/mnist_test.csv')\n"
   ]
  },
  {
   "cell_type": "markdown",
   "id": "302fc472",
   "metadata": {
    "slideshow": {
     "slide_type": "slide"
    }
   },
   "source": [
    "### Step 1: Descriptive Statistics"
   ]
  },
  {
   "cell_type": "code",
   "execution_count": 202,
   "id": "0662a169",
   "metadata": {
    "slideshow": {
     "slide_type": "slide"
    }
   },
   "outputs": [
    {
     "data": {
      "text/html": [
       "<div>\n",
       "<style scoped>\n",
       "    .dataframe tbody tr th:only-of-type {\n",
       "        vertical-align: middle;\n",
       "    }\n",
       "\n",
       "    .dataframe tbody tr th {\n",
       "        vertical-align: top;\n",
       "    }\n",
       "\n",
       "    .dataframe thead th {\n",
       "        text-align: right;\n",
       "    }\n",
       "</style>\n",
       "<table border=\"1\" class=\"dataframe\">\n",
       "  <thead>\n",
       "    <tr style=\"text-align: right;\">\n",
       "      <th></th>\n",
       "      <th>label</th>\n",
       "      <th>1x1</th>\n",
       "      <th>1x2</th>\n",
       "      <th>1x3</th>\n",
       "      <th>1x4</th>\n",
       "      <th>1x5</th>\n",
       "      <th>1x6</th>\n",
       "      <th>1x7</th>\n",
       "      <th>1x8</th>\n",
       "      <th>1x9</th>\n",
       "      <th>...</th>\n",
       "      <th>28x19</th>\n",
       "      <th>28x20</th>\n",
       "      <th>28x21</th>\n",
       "      <th>28x22</th>\n",
       "      <th>28x23</th>\n",
       "      <th>28x24</th>\n",
       "      <th>28x25</th>\n",
       "      <th>28x26</th>\n",
       "      <th>28x27</th>\n",
       "      <th>28x28</th>\n",
       "    </tr>\n",
       "  </thead>\n",
       "  <tbody>\n",
       "    <tr>\n",
       "      <th>0</th>\n",
       "      <td>4</td>\n",
       "      <td>0</td>\n",
       "      <td>0</td>\n",
       "      <td>0</td>\n",
       "      <td>0</td>\n",
       "      <td>0</td>\n",
       "      <td>0</td>\n",
       "      <td>0</td>\n",
       "      <td>0</td>\n",
       "      <td>0</td>\n",
       "      <td>...</td>\n",
       "      <td>0</td>\n",
       "      <td>0</td>\n",
       "      <td>0</td>\n",
       "      <td>0</td>\n",
       "      <td>0</td>\n",
       "      <td>0</td>\n",
       "      <td>0</td>\n",
       "      <td>0</td>\n",
       "      <td>0</td>\n",
       "      <td>0</td>\n",
       "    </tr>\n",
       "    <tr>\n",
       "      <th>1</th>\n",
       "      <td>2</td>\n",
       "      <td>0</td>\n",
       "      <td>0</td>\n",
       "      <td>0</td>\n",
       "      <td>0</td>\n",
       "      <td>0</td>\n",
       "      <td>0</td>\n",
       "      <td>0</td>\n",
       "      <td>0</td>\n",
       "      <td>0</td>\n",
       "      <td>...</td>\n",
       "      <td>0</td>\n",
       "      <td>0</td>\n",
       "      <td>0</td>\n",
       "      <td>0</td>\n",
       "      <td>0</td>\n",
       "      <td>0</td>\n",
       "      <td>0</td>\n",
       "      <td>0</td>\n",
       "      <td>0</td>\n",
       "      <td>0</td>\n",
       "    </tr>\n",
       "    <tr>\n",
       "      <th>2</th>\n",
       "      <td>1</td>\n",
       "      <td>0</td>\n",
       "      <td>0</td>\n",
       "      <td>0</td>\n",
       "      <td>0</td>\n",
       "      <td>0</td>\n",
       "      <td>0</td>\n",
       "      <td>0</td>\n",
       "      <td>0</td>\n",
       "      <td>0</td>\n",
       "      <td>...</td>\n",
       "      <td>0</td>\n",
       "      <td>0</td>\n",
       "      <td>0</td>\n",
       "      <td>0</td>\n",
       "      <td>0</td>\n",
       "      <td>0</td>\n",
       "      <td>0</td>\n",
       "      <td>0</td>\n",
       "      <td>0</td>\n",
       "      <td>0</td>\n",
       "    </tr>\n",
       "    <tr>\n",
       "      <th>3</th>\n",
       "      <td>4</td>\n",
       "      <td>0</td>\n",
       "      <td>0</td>\n",
       "      <td>0</td>\n",
       "      <td>0</td>\n",
       "      <td>0</td>\n",
       "      <td>0</td>\n",
       "      <td>0</td>\n",
       "      <td>0</td>\n",
       "      <td>0</td>\n",
       "      <td>...</td>\n",
       "      <td>0</td>\n",
       "      <td>0</td>\n",
       "      <td>0</td>\n",
       "      <td>0</td>\n",
       "      <td>0</td>\n",
       "      <td>0</td>\n",
       "      <td>0</td>\n",
       "      <td>0</td>\n",
       "      <td>0</td>\n",
       "      <td>0</td>\n",
       "    </tr>\n",
       "    <tr>\n",
       "      <th>4</th>\n",
       "      <td>3</td>\n",
       "      <td>0</td>\n",
       "      <td>0</td>\n",
       "      <td>0</td>\n",
       "      <td>0</td>\n",
       "      <td>0</td>\n",
       "      <td>0</td>\n",
       "      <td>0</td>\n",
       "      <td>0</td>\n",
       "      <td>0</td>\n",
       "      <td>...</td>\n",
       "      <td>0</td>\n",
       "      <td>0</td>\n",
       "      <td>0</td>\n",
       "      <td>0</td>\n",
       "      <td>0</td>\n",
       "      <td>0</td>\n",
       "      <td>0</td>\n",
       "      <td>0</td>\n",
       "      <td>0</td>\n",
       "      <td>0</td>\n",
       "    </tr>\n",
       "  </tbody>\n",
       "</table>\n",
       "<p>5 rows × 785 columns</p>\n",
       "</div>"
      ],
      "text/plain": [
       "   label  1x1  1x2  1x3  1x4  1x5  1x6  1x7  1x8  1x9  ...  28x19  28x20  \\\n",
       "0      4    0    0    0    0    0    0    0    0    0  ...      0      0   \n",
       "1      2    0    0    0    0    0    0    0    0    0  ...      0      0   \n",
       "2      1    0    0    0    0    0    0    0    0    0  ...      0      0   \n",
       "3      4    0    0    0    0    0    0    0    0    0  ...      0      0   \n",
       "4      3    0    0    0    0    0    0    0    0    0  ...      0      0   \n",
       "\n",
       "   28x21  28x22  28x23  28x24  28x25  28x26  28x27  28x28  \n",
       "0      0      0      0      0      0      0      0      0  \n",
       "1      0      0      0      0      0      0      0      0  \n",
       "2      0      0      0      0      0      0      0      0  \n",
       "3      0      0      0      0      0      0      0      0  \n",
       "4      0      0      0      0      0      0      0      0  \n",
       "\n",
       "[5 rows x 785 columns]"
      ]
     },
     "execution_count": 202,
     "metadata": {},
     "output_type": "execute_result"
    }
   ],
   "source": [
    "train_df.head(5)\n"
   ]
  },
  {
   "cell_type": "code",
   "execution_count": 203,
   "id": "8c894103",
   "metadata": {
    "slideshow": {
     "slide_type": "slide"
    }
   },
   "outputs": [
    {
     "data": {
      "text/plain": [
       "(27000, 785)"
      ]
     },
     "execution_count": 203,
     "metadata": {},
     "output_type": "execute_result"
    }
   ],
   "source": [
    "train_df.shape"
   ]
  },
  {
   "cell_type": "code",
   "execution_count": 204,
   "id": "de1e83f2",
   "metadata": {
    "slideshow": {
     "slide_type": "slide"
    }
   },
   "outputs": [
    {
     "data": {
      "text/html": [
       "<div>\n",
       "<style scoped>\n",
       "    .dataframe tbody tr th:only-of-type {\n",
       "        vertical-align: middle;\n",
       "    }\n",
       "\n",
       "    .dataframe tbody tr th {\n",
       "        vertical-align: top;\n",
       "    }\n",
       "\n",
       "    .dataframe thead th {\n",
       "        text-align: right;\n",
       "    }\n",
       "</style>\n",
       "<table border=\"1\" class=\"dataframe\">\n",
       "  <thead>\n",
       "    <tr style=\"text-align: right;\">\n",
       "      <th></th>\n",
       "      <th>label</th>\n",
       "      <th>1x1</th>\n",
       "      <th>1x2</th>\n",
       "      <th>1x3</th>\n",
       "      <th>1x4</th>\n",
       "      <th>1x5</th>\n",
       "      <th>1x6</th>\n",
       "      <th>1x7</th>\n",
       "      <th>1x8</th>\n",
       "      <th>1x9</th>\n",
       "      <th>...</th>\n",
       "      <th>28x19</th>\n",
       "      <th>28x20</th>\n",
       "      <th>28x21</th>\n",
       "      <th>28x22</th>\n",
       "      <th>28x23</th>\n",
       "      <th>28x24</th>\n",
       "      <th>28x25</th>\n",
       "      <th>28x26</th>\n",
       "      <th>28x27</th>\n",
       "      <th>28x28</th>\n",
       "    </tr>\n",
       "  </thead>\n",
       "  <tbody>\n",
       "    <tr>\n",
       "      <th>0</th>\n",
       "      <td>7</td>\n",
       "      <td>0</td>\n",
       "      <td>0</td>\n",
       "      <td>0</td>\n",
       "      <td>0</td>\n",
       "      <td>0</td>\n",
       "      <td>0</td>\n",
       "      <td>0</td>\n",
       "      <td>0</td>\n",
       "      <td>0</td>\n",
       "      <td>...</td>\n",
       "      <td>0</td>\n",
       "      <td>0</td>\n",
       "      <td>0</td>\n",
       "      <td>0</td>\n",
       "      <td>0</td>\n",
       "      <td>0</td>\n",
       "      <td>0</td>\n",
       "      <td>0</td>\n",
       "      <td>0</td>\n",
       "      <td>0</td>\n",
       "    </tr>\n",
       "    <tr>\n",
       "      <th>1</th>\n",
       "      <td>2</td>\n",
       "      <td>0</td>\n",
       "      <td>0</td>\n",
       "      <td>0</td>\n",
       "      <td>0</td>\n",
       "      <td>0</td>\n",
       "      <td>0</td>\n",
       "      <td>0</td>\n",
       "      <td>0</td>\n",
       "      <td>0</td>\n",
       "      <td>...</td>\n",
       "      <td>0</td>\n",
       "      <td>0</td>\n",
       "      <td>0</td>\n",
       "      <td>0</td>\n",
       "      <td>0</td>\n",
       "      <td>0</td>\n",
       "      <td>0</td>\n",
       "      <td>0</td>\n",
       "      <td>0</td>\n",
       "      <td>0</td>\n",
       "    </tr>\n",
       "    <tr>\n",
       "      <th>2</th>\n",
       "      <td>1</td>\n",
       "      <td>0</td>\n",
       "      <td>0</td>\n",
       "      <td>0</td>\n",
       "      <td>0</td>\n",
       "      <td>0</td>\n",
       "      <td>0</td>\n",
       "      <td>0</td>\n",
       "      <td>0</td>\n",
       "      <td>0</td>\n",
       "      <td>...</td>\n",
       "      <td>0</td>\n",
       "      <td>0</td>\n",
       "      <td>0</td>\n",
       "      <td>0</td>\n",
       "      <td>0</td>\n",
       "      <td>0</td>\n",
       "      <td>0</td>\n",
       "      <td>0</td>\n",
       "      <td>0</td>\n",
       "      <td>0</td>\n",
       "    </tr>\n",
       "    <tr>\n",
       "      <th>3</th>\n",
       "      <td>0</td>\n",
       "      <td>0</td>\n",
       "      <td>0</td>\n",
       "      <td>0</td>\n",
       "      <td>0</td>\n",
       "      <td>0</td>\n",
       "      <td>0</td>\n",
       "      <td>0</td>\n",
       "      <td>0</td>\n",
       "      <td>0</td>\n",
       "      <td>...</td>\n",
       "      <td>0</td>\n",
       "      <td>0</td>\n",
       "      <td>0</td>\n",
       "      <td>0</td>\n",
       "      <td>0</td>\n",
       "      <td>0</td>\n",
       "      <td>0</td>\n",
       "      <td>0</td>\n",
       "      <td>0</td>\n",
       "      <td>0</td>\n",
       "    </tr>\n",
       "    <tr>\n",
       "      <th>4</th>\n",
       "      <td>4</td>\n",
       "      <td>0</td>\n",
       "      <td>0</td>\n",
       "      <td>0</td>\n",
       "      <td>0</td>\n",
       "      <td>0</td>\n",
       "      <td>0</td>\n",
       "      <td>0</td>\n",
       "      <td>0</td>\n",
       "      <td>0</td>\n",
       "      <td>...</td>\n",
       "      <td>0</td>\n",
       "      <td>0</td>\n",
       "      <td>0</td>\n",
       "      <td>0</td>\n",
       "      <td>0</td>\n",
       "      <td>0</td>\n",
       "      <td>0</td>\n",
       "      <td>0</td>\n",
       "      <td>0</td>\n",
       "      <td>0</td>\n",
       "    </tr>\n",
       "  </tbody>\n",
       "</table>\n",
       "<p>5 rows × 785 columns</p>\n",
       "</div>"
      ],
      "text/plain": [
       "   label  1x1  1x2  1x3  1x4  1x5  1x6  1x7  1x8  1x9  ...  28x19  28x20  \\\n",
       "0      7    0    0    0    0    0    0    0    0    0  ...      0      0   \n",
       "1      2    0    0    0    0    0    0    0    0    0  ...      0      0   \n",
       "2      1    0    0    0    0    0    0    0    0    0  ...      0      0   \n",
       "3      0    0    0    0    0    0    0    0    0    0  ...      0      0   \n",
       "4      4    0    0    0    0    0    0    0    0    0  ...      0      0   \n",
       "\n",
       "   28x21  28x22  28x23  28x24  28x25  28x26  28x27  28x28  \n",
       "0      0      0      0      0      0      0      0      0  \n",
       "1      0      0      0      0      0      0      0      0  \n",
       "2      0      0      0      0      0      0      0      0  \n",
       "3      0      0      0      0      0      0      0      0  \n",
       "4      0      0      0      0      0      0      0      0  \n",
       "\n",
       "[5 rows x 785 columns]"
      ]
     },
     "execution_count": 204,
     "metadata": {},
     "output_type": "execute_result"
    }
   ],
   "source": [
    "test_df.head(5)"
   ]
  },
  {
   "cell_type": "code",
   "execution_count": 205,
   "id": "b4c32164",
   "metadata": {
    "slideshow": {
     "slide_type": "slide"
    }
   },
   "outputs": [
    {
     "data": {
      "text/plain": [
       "(10000, 785)"
      ]
     },
     "execution_count": 205,
     "metadata": {},
     "output_type": "execute_result"
    }
   ],
   "source": [
    "test_df.shape"
   ]
  },
  {
   "cell_type": "code",
   "execution_count": 206,
   "id": "8dface53",
   "metadata": {
    "slideshow": {
     "slide_type": "slide"
    }
   },
   "outputs": [
    {
     "data": {
      "image/png": "[encoded data removed]",
      "text/plain": [
       "<Figure size 864x432 with 1 Axes>"
      ]
     },
     "metadata": {
      "needs_background": "light"
     },
     "output_type": "display_data"
    }
   ],
   "source": [
    "# Sort the label counts by the label value, assuming they are categorical but not numerical\n",
    "label_counts = train_df['label'].value_counts().sort_index()\n",
    "\n",
    "# Create a bar plot for the label counts\n",
    "plt.figure(figsize=(12, 6))\n",
    "label_counts.plot(kind='bar')\n",
    "plt.title('Distribution of Labels in the Dataset')\n",
    "plt.xlabel('Labels')\n",
    "plt.ylabel('Count')\n",
    "plt.xticks(rotation=1)  # Rotate x labels for better readability if necessary\n",
    "plt.show()\n"
   ]
  },
  {
   "cell_type": "markdown",
   "id": "85c361bd",
   "metadata": {
    "slideshow": {
     "slide_type": "slide"
    }
   },
   "source": [
    "### Step 2: Data Preprocessing"
   ]
  },
  {
   "cell_type": "code",
   "execution_count": 207,
   "id": "30d3c960",
   "metadata": {
    "slideshow": {
     "slide_type": "slide"
    }
   },
   "outputs": [],
   "source": [
    "# Create variables for the pixels and the labels we want to predict\n",
    "X_train: np.ndarray = train_df.drop('label', axis=1).to_numpy()\n",
    "y_train: np.ndarray = train_df['label'].to_numpy()\n",
    "X_test: np.ndarray = test_df.drop('label', axis=1).to_numpy()\n",
    "y_test: np.ndarray = test_df['label'].to_numpy()\n",
    "\n",
    "#X_test: np.ndarray = test_df.to_numpy()\n",
    "    "
   ]
  },
  {
   "cell_type": "code",
   "execution_count": 208,
   "id": "b54ec1eb",
   "metadata": {
    "slideshow": {
     "slide_type": "slide"
    }
   },
   "outputs": [
    {
     "data": {
      "text/plain": [
       "((27000, 784), (27000,))"
      ]
     },
     "execution_count": 208,
     "metadata": {},
     "output_type": "execute_result"
    }
   ],
   "source": [
    "#print(X_train.ndim)\n",
    "#print(X_train.shape)\n",
    "X_train.shape, y_train.shape"
   ]
  },
  {
   "cell_type": "code",
   "execution_count": 209,
   "id": "a4fbe73f",
   "metadata": {
    "slideshow": {
     "slide_type": "slide"
    }
   },
   "outputs": [
    {
     "data": {
      "text/plain": [
       "((10000, 784), (10000,))"
      ]
     },
     "execution_count": 209,
     "metadata": {},
     "output_type": "execute_result"
    }
   ],
   "source": [
    "X_test.shape, y_test.shape"
   ]
  },
  {
   "cell_type": "code",
   "execution_count": 210,
   "id": "6e3813de",
   "metadata": {
    "slideshow": {
     "slide_type": "slide"
    }
   },
   "outputs": [
    {
     "data": {
      "image/png": "[encoded data removed]",
      "text/plain": [
       "<Figure size 504x288 with 10 Axes>"
      ]
     },
     "metadata": {
      "needs_background": "light"
     },
     "output_type": "display_data"
    }
   ],
   "source": [
    "# Plot a sample of each digit as the original image\n",
    "# create sub plot for each digit\n",
    "fig, ax = plt.subplots(2,5, figsize=(7,4))\n",
    "# loop over each subplot to add its digit\n",
    "for i, ax in enumerate(ax.flatten()):\n",
    "    # find index for image with the corresponding digit\n",
    "    img_idx: int = np.argwhere(y_train == i)[0]\n",
    "    # get the image and reshape to 28X28\n",
    "    img: np.ndarray = np.reshape(X_train[img_idx], (28, 28))\n",
    "    # plot digit image\n",
    "    ax.imshow(img, cmap=\"gray_r\")\n",
    "    # add digit label\n",
    "    ax.set_title(f\"Label: {i}\")\n",
    "    # remove gridlines\n",
    "    ax.grid(False)\n",
    "# add title to the plot\n",
    "fig.suptitle(\"MNIST Images Sample And Their Labels\")\n",
    "# adjust the padding between and around subplots\n",
    "fig.tight_layout()\n",
    "# show plot\n",
    "plt.show()\n"
   ]
  },
  {
   "cell_type": "code",
   "execution_count": 211,
   "id": "e535e97e",
   "metadata": {
    "slideshow": {
     "slide_type": "slide"
    }
   },
   "outputs": [],
   "source": [
    "# We assume each pixel is either 0 (black) or 1 (white)\n",
    "# create empty list for our binary vector\n",
    "X_train_binary: List = []\n",
    "# loop over each vector\n",
    "for i in X_train:\n",
    "    # reshape digit vector to image\n",
    "    img: np.ndarray = np.reshape(i, (28, 28)).astype(np.uint8)\n",
    "    # binarize\n",
    "    im_gray: np.ndarray = cv2.threshold(\n",
    "        img, 120, 255, cv2.THRESH_BINARY + cv2.THRESH_OTSU)[1]\n",
    "    # append to binary vector list\n",
    "    X_train_binary.append(np.reshape(im_gray, (784,)))\n",
    "# convert to numpy array\n",
    "X_train_binary: np.ndarray = np.asarray(X_train_binary)"
   ]
  },
  {
   "cell_type": "markdown",
   "id": "91bed3b0",
   "metadata": {
    "slideshow": {
     "slide_type": "slide"
    }
   },
   "source": [
    "### Step 3: Data Modeling"
   ]
  },
  {
   "cell_type": "code",
   "execution_count": 212,
   "id": "3e17bc40",
   "metadata": {
    "slideshow": {
     "slide_type": "slide"
    }
   },
   "outputs": [
    {
     "data": {
      "text/html": [
       "<style>#sk-container-id-9 {\n",
       "  /* Definition of color scheme common for light and dark mode */\n",
       "  --sklearn-color-text: black;\n",
       "  --sklearn-color-line: gray;\n",
       "  /* Definition of color scheme for unfitted estimators */\n",
       "  --sklearn-color-unfitted-level-0: #fff5e6;\n",
       "  --sklearn-color-unfitted-level-1: #f6e4d2;\n",
       "  --sklearn-color-unfitted-level-2: #ffe0b3;\n",
       "  --sklearn-color-unfitted-level-3: chocolate;\n",
       "  /* Definition of color scheme for fitted estimators */\n",
       "  --sklearn-color-fitted-level-0: #f0f8ff;\n",
       "  --sklearn-color-fitted-level-1: #d4ebff;\n",
       "  --sklearn-color-fitted-level-2: #b3dbfd;\n",
       "  --sklearn-color-fitted-level-3: cornflowerblue;\n",
       "\n",
       "  /* Specific color for light theme */\n",
       "  --sklearn-color-text-on-default-background: var(--sg-text-color, var(--theme-code-foreground, var(--jp-content-font-color1, black)));\n",
       "  --sklearn-color-background: var(--sg-background-color, var(--theme-background, var(--jp-layout-color0, white)));\n",
       "  --sklearn-color-border-box: var(--sg-text-color, var(--theme-code-foreground, var(--jp-content-font-color1, black)));\n",
       "  --sklearn-color-icon: #696969;\n",
       "\n",
       "  @media (prefers-color-scheme: dark) {\n",
       "    /* Redefinition of color scheme for dark theme */\n",
       "    --sklearn-color-text-on-default-background: var(--sg-text-color, var(--theme-code-foreground, var(--jp-content-font-color1, white)));\n",
       "    --sklearn-color-background: var(--sg-background-color, var(--theme-background, var(--jp-layout-color0, #111)));\n",
       "    --sklearn-color-border-box: var(--sg-text-color, var(--theme-code-foreground, var(--jp-content-font-color1, white)));\n",
       "    --sklearn-color-icon: #878787;\n",
       "  }\n",
       "}\n",
       "\n",
       "#sk-container-id-9 {\n",
       "  color: var(--sklearn-color-text);\n",
       "}\n",
       "\n",
       "#sk-container-id-9 pre {\n",
       "  padding: 0;\n",
       "}\n",
       "\n",
       "#sk-container-id-9 input.sk-hidden--visually {\n",
       "  border: 0;\n",
       "  clip: rect(1px 1px 1px 1px);\n",
       "  clip: rect(1px, 1px, 1px, 1px);\n",
       "  height: 1px;\n",
       "  margin: -1px;\n",
       "  overflow: hidden;\n",
       "  padding: 0;\n",
       "  position: absolute;\n",
       "  width: 1px;\n",
       "}\n",
       "\n",
       "#sk-container-id-9 div.sk-dashed-wrapped {\n",
       "  border: 1px dashed var(--sklearn-color-line);\n",
       "  margin: 0 0.4em 0.5em 0.4em;\n",
       "  box-sizing: border-box;\n",
       "  padding-bottom: 0.4em;\n",
       "  background-color: var(--sklearn-color-background);\n",
       "}\n",
       "\n",
       "#sk-container-id-9 div.sk-container {\n",
       "  /* jupyter's `normalize.less` sets `[hidden] { display: none; }`\n",
       "     but bootstrap.min.css set `[hidden] { display: none !important; }`\n",
       "     so we also need the `!important` here to be able to override the\n",
       "     default hidden behavior on the sphinx rendered scikit-learn.org.\n",
       "     See: https://github.com/scikit-learn/scikit-learn/issues/21755 */\n",
       "  display: inline-block !important;\n",
       "  position: relative;\n",
       "}\n",
       "\n",
       "#sk-container-id-9 div.sk-text-repr-fallback {\n",
       "  display: none;\n",
       "}\n",
       "\n",
       "div.sk-parallel-item,\n",
       "div.sk-serial,\n",
       "div.sk-item {\n",
       "  /* draw centered vertical line to link estimators */\n",
       "  background-image: linear-gradient(var(--sklearn-color-text-on-default-background), var(--sklearn-color-text-on-default-background));\n",
       "  background-size: 2px 100%;\n",
       "  background-repeat: no-repeat;\n",
       "  background-position: center center;\n",
       "}\n",
       "\n",
       "/* Parallel-specific style estimator block */\n",
       "\n",
       "#sk-container-id-9 div.sk-parallel-item::after {\n",
       "  content: \"\";\n",
       "  width: 100%;\n",
       "  border-bottom: 2px solid var(--sklearn-color-text-on-default-background);\n",
       "  flex-grow: 1;\n",
       "}\n",
       "\n",
       "#sk-container-id-9 div.sk-parallel {\n",
       "  display: flex;\n",
       "  align-items: stretch;\n",
       "  justify-content: center;\n",
       "  background-color: var(--sklearn-color-background);\n",
       "  position: relative;\n",
       "}\n",
       "\n",
       "#sk-container-id-9 div.sk-parallel-item {\n",
       "  display: flex;\n",
       "  flex-direction: column;\n",
       "}\n",
       "\n",
       "#sk-container-id-9 div.sk-parallel-item:first-child::after {\n",
       "  align-self: flex-end;\n",
       "  width: 50%;\n",
       "}\n",
       "\n",
       "#sk-container-id-9 div.sk-parallel-item:last-child::after {\n",
       "  align-self: flex-start;\n",
       "  width: 50%;\n",
       "}\n",
       "\n",
       "#sk-container-id-9 div.sk-parallel-item:only-child::after {\n",
       "  width: 0;\n",
       "}\n",
       "\n",
       "/* Serial-specific style estimator block */\n",
       "\n",
       "#sk-container-id-9 div.sk-serial {\n",
       "  display: flex;\n",
       "  flex-direction: column;\n",
       "  align-items: center;\n",
       "  background-color: var(--sklearn-color-background);\n",
       "  padding-right: 1em;\n",
       "  padding-left: 1em;\n",
       "}\n",
       "\n",
       "\n",
       "/* Toggleable style: style used for estimator/Pipeline/ColumnTransformer box that is\n",
       "clickable and can be expanded/collapsed.\n",
       "- Pipeline and ColumnTransformer use this feature and define the default style\n",
       "- Estimators will overwrite some part of the style using the `sk-estimator` class\n",
       "*/\n",
       "\n",
       "/* Pipeline and ColumnTransformer style (default) */\n",
       "\n",
       "#sk-container-id-9 div.sk-toggleable {\n",
       "  /* Default theme specific background. It is overwritten whether we have a\n",
       "  specific estimator or a Pipeline/ColumnTransformer */\n",
       "  background-color: var(--sklearn-color-background);\n",
       "}\n",
       "\n",
       "/* Toggleable label */\n",
       "#sk-container-id-9 label.sk-toggleable__label {\n",
       "  cursor: pointer;\n",
       "  display: block;\n",
       "  width: 100%;\n",
       "  margin-bottom: 0;\n",
       "  padding: 0.5em;\n",
       "  box-sizing: border-box;\n",
       "  text-align: center;\n",
       "}\n",
       "\n",
       "#sk-container-id-9 label.sk-toggleable__label-arrow:before {\n",
       "  /* Arrow on the left of the label */\n",
       "  content: \"▸\";\n",
       "  float: left;\n",
       "  margin-right: 0.25em;\n",
       "  color: var(--sklearn-color-icon);\n",
       "}\n",
       "\n",
       "#sk-container-id-9 label.sk-toggleable__label-arrow:hover:before {\n",
       "  color: var(--sklearn-color-text);\n",
       "}\n",
       "\n",
       "/* Toggleable content - dropdown */\n",
       "\n",
       "#sk-container-id-9 div.sk-toggleable__content {\n",
       "  max-height: 0;\n",
       "  max-width: 0;\n",
       "  overflow: hidden;\n",
       "  text-align: left;\n",
       "  /* unfitted */\n",
       "  background-color: var(--sklearn-color-unfitted-level-0);\n",
       "}\n",
       "\n",
       "#sk-container-id-9 div.sk-toggleable__content.fitted {\n",
       "  /* fitted */\n",
       "  background-color: var(--sklearn-color-fitted-level-0);\n",
       "}\n",
       "\n",
       "#sk-container-id-9 div.sk-toggleable__content pre {\n",
       "  margin: 0.2em;\n",
       "  border-radius: 0.25em;\n",
       "  color: var(--sklearn-color-text);\n",
       "  /* unfitted */\n",
       "  background-color: var(--sklearn-color-unfitted-level-0);\n",
       "}\n",
       "\n",
       "#sk-container-id-9 div.sk-toggleable__content.fitted pre {\n",
       "  /* unfitted */\n",
       "  background-color: var(--sklearn-color-fitted-level-0);\n",
       "}\n",
       "\n",
       "#sk-container-id-9 input.sk-toggleable__control:checked~div.sk-toggleable__content {\n",
       "  /* Expand drop-down */\n",
       "  max-height: 200px;\n",
       "  max-width: 100%;\n",
       "  overflow: auto;\n",
       "}\n",
       "\n",
       "#sk-container-id-9 input.sk-toggleable__control:checked~label.sk-toggleable__label-arrow:before {\n",
       "  content: \"▾\";\n",
       "}\n",
       "\n",
       "/* Pipeline/ColumnTransformer-specific style */\n",
       "\n",
       "#sk-container-id-9 div.sk-label input.sk-toggleable__control:checked~label.sk-toggleable__label {\n",
       "  color: var(--sklearn-color-text);\n",
       "  background-color: var(--sklearn-color-unfitted-level-2);\n",
       "}\n",
       "\n",
       "#sk-container-id-9 div.sk-label.fitted input.sk-toggleable__control:checked~label.sk-toggleable__label {\n",
       "  background-color: var(--sklearn-color-fitted-level-2);\n",
       "}\n",
       "\n",
       "/* Estimator-specific style */\n",
       "\n",
       "/* Colorize estimator box */\n",
       "#sk-container-id-9 div.sk-estimator input.sk-toggleable__control:checked~label.sk-toggleable__label {\n",
       "  /* unfitted */\n",
       "  background-color: var(--sklearn-color-unfitted-level-2);\n",
       "}\n",
       "\n",
       "#sk-container-id-9 div.sk-estimator.fitted input.sk-toggleable__control:checked~label.sk-toggleable__label {\n",
       "  /* fitted */\n",
       "  background-color: var(--sklearn-color-fitted-level-2);\n",
       "}\n",
       "\n",
       "#sk-container-id-9 div.sk-label label.sk-toggleable__label,\n",
       "#sk-container-id-9 div.sk-label label {\n",
       "  /* The background is the default theme color */\n",
       "  color: var(--sklearn-color-text-on-default-background);\n",
       "}\n",
       "\n",
       "/* On hover, darken the color of the background */\n",
       "#sk-container-id-9 div.sk-label:hover label.sk-toggleable__label {\n",
       "  color: var(--sklearn-color-text);\n",
       "  background-color: var(--sklearn-color-unfitted-level-2);\n",
       "}\n",
       "\n",
       "/* Label box, darken color on hover, fitted */\n",
       "#sk-container-id-9 div.sk-label.fitted:hover label.sk-toggleable__label.fitted {\n",
       "  color: var(--sklearn-color-text);\n",
       "  background-color: var(--sklearn-color-fitted-level-2);\n",
       "}\n",
       "\n",
       "/* Estimator label */\n",
       "\n",
       "#sk-container-id-9 div.sk-label label {\n",
       "  font-family: monospace;\n",
       "  font-weight: bold;\n",
       "  display: inline-block;\n",
       "  line-height: 1.2em;\n",
       "}\n",
       "\n",
       "#sk-container-id-9 div.sk-label-container {\n",
       "  text-align: center;\n",
       "}\n",
       "\n",
       "/* Estimator-specific */\n",
       "#sk-container-id-9 div.sk-estimator {\n",
       "  font-family: monospace;\n",
       "  border: 1px dotted var(--sklearn-color-border-box);\n",
       "  border-radius: 0.25em;\n",
       "  box-sizing: border-box;\n",
       "  margin-bottom: 0.5em;\n",
       "  /* unfitted */\n",
       "  background-color: var(--sklearn-color-unfitted-level-0);\n",
       "}\n",
       "\n",
       "#sk-container-id-9 div.sk-estimator.fitted {\n",
       "  /* fitted */\n",
       "  background-color: var(--sklearn-color-fitted-level-0);\n",
       "}\n",
       "\n",
       "/* on hover */\n",
       "#sk-container-id-9 div.sk-estimator:hover {\n",
       "  /* unfitted */\n",
       "  background-color: var(--sklearn-color-unfitted-level-2);\n",
       "}\n",
       "\n",
       "#sk-container-id-9 div.sk-estimator.fitted:hover {\n",
       "  /* fitted */\n",
       "  background-color: var(--sklearn-color-fitted-level-2);\n",
       "}\n",
       "\n",
       "/* Specification for estimator info (e.g. \"i\" and \"?\") */\n",
       "\n",
       "/* Common style for \"i\" and \"?\" */\n",
       "\n",
       ".sk-estimator-doc-link,\n",
       "a:link.sk-estimator-doc-link,\n",
       "a:visited.sk-estimator-doc-link {\n",
       "  float: right;\n",
       "  font-size: smaller;\n",
       "  line-height: 1em;\n",
       "  font-family: monospace;\n",
       "  background-color: var(--sklearn-color-background);\n",
       "  border-radius: 1em;\n",
       "  height: 1em;\n",
       "  width: 1em;\n",
       "  text-decoration: none !important;\n",
       "  margin-left: 1ex;\n",
       "  /* unfitted */\n",
       "  border: var(--sklearn-color-unfitted-level-1) 1pt solid;\n",
       "  color: var(--sklearn-color-unfitted-level-1);\n",
       "}\n",
       "\n",
       ".sk-estimator-doc-link.fitted,\n",
       "a:link.sk-estimator-doc-link.fitted,\n",
       "a:visited.sk-estimator-doc-link.fitted {\n",
       "  /* fitted */\n",
       "  border: var(--sklearn-color-fitted-level-1) 1pt solid;\n",
       "  color: var(--sklearn-color-fitted-level-1);\n",
       "}\n",
       "\n",
       "/* On hover */\n",
       "div.sk-estimator:hover .sk-estimator-doc-link:hover,\n",
       ".sk-estimator-doc-link:hover,\n",
       "div.sk-label-container:hover .sk-estimator-doc-link:hover,\n",
       ".sk-estimator-doc-link:hover {\n",
       "  /* unfitted */\n",
       "  background-color: var(--sklearn-color-unfitted-level-3);\n",
       "  color: var(--sklearn-color-background);\n",
       "  text-decoration: none;\n",
       "}\n",
       "\n",
       "div.sk-estimator.fitted:hover .sk-estimator-doc-link.fitted:hover,\n",
       ".sk-estimator-doc-link.fitted:hover,\n",
       "div.sk-label-container:hover .sk-estimator-doc-link.fitted:hover,\n",
       ".sk-estimator-doc-link.fitted:hover {\n",
       "  /* fitted */\n",
       "  background-color: var(--sklearn-color-fitted-level-3);\n",
       "  color: var(--sklearn-color-background);\n",
       "  text-decoration: none;\n",
       "}\n",
       "\n",
       "/* Span, style for the box shown on hovering the info icon */\n",
       ".sk-estimator-doc-link span {\n",
       "  display: none;\n",
       "  z-index: 9999;\n",
       "  position: relative;\n",
       "  font-weight: normal;\n",
       "  right: .2ex;\n",
       "  padding: .5ex;\n",
       "  margin: .5ex;\n",
       "  width: min-content;\n",
       "  min-width: 20ex;\n",
       "  max-width: 50ex;\n",
       "  color: var(--sklearn-color-text);\n",
       "  box-shadow: 2pt 2pt 4pt #999;\n",
       "  /* unfitted */\n",
       "  background: var(--sklearn-color-unfitted-level-0);\n",
       "  border: .5pt solid var(--sklearn-color-unfitted-level-3);\n",
       "}\n",
       "\n",
       ".sk-estimator-doc-link.fitted span {\n",
       "  /* fitted */\n",
       "  background: var(--sklearn-color-fitted-level-0);\n",
       "  border: var(--sklearn-color-fitted-level-3);\n",
       "}\n",
       "\n",
       ".sk-estimator-doc-link:hover span {\n",
       "  display: block;\n",
       "}\n",
       "\n",
       "/* \"?\"-specific style due to the `<a>` HTML tag */\n",
       "\n",
       "#sk-container-id-9 a.estimator_doc_link {\n",
       "  float: right;\n",
       "  font-size: 1rem;\n",
       "  line-height: 1em;\n",
       "  font-family: monospace;\n",
       "  background-color: var(--sklearn-color-background);\n",
       "  border-radius: 1rem;\n",
       "  height: 1rem;\n",
       "  width: 1rem;\n",
       "  text-decoration: none;\n",
       "  /* unfitted */\n",
       "  color: var(--sklearn-color-unfitted-level-1);\n",
       "  border: var(--sklearn-color-unfitted-level-1) 1pt solid;\n",
       "}\n",
       "\n",
       "#sk-container-id-9 a.estimator_doc_link.fitted {\n",
       "  /* fitted */\n",
       "  border: var(--sklearn-color-fitted-level-1) 1pt solid;\n",
       "  color: var(--sklearn-color-fitted-level-1);\n",
       "}\n",
       "\n",
       "/* On hover */\n",
       "#sk-container-id-9 a.estimator_doc_link:hover {\n",
       "  /* unfitted */\n",
       "  background-color: var(--sklearn-color-unfitted-level-3);\n",
       "  color: var(--sklearn-color-background);\n",
       "  text-decoration: none;\n",
       "}\n",
       "\n",
       "#sk-container-id-9 a.estimator_doc_link.fitted:hover {\n",
       "  /* fitted */\n",
       "  background-color: var(--sklearn-color-fitted-level-3);\n",
       "}\n",
       "</style><div id=\"sk-container-id-9\" class=\"sk-top-container\"><div class=\"sk-text-repr-fallback\"><pre>BernoulliNB()</pre><b>In a Jupyter environment, please rerun this cell to show the HTML representation or trust the notebook. <br />On GitHub, the HTML representation is unable to render, please try loading this page with nbviewer.org.</b></div><div class=\"sk-container\" hidden><div class=\"sk-item\"><div class=\"sk-estimator fitted sk-toggleable\"><input class=\"sk-toggleable__control sk-hidden--visually\" id=\"sk-estimator-id-17\" type=\"checkbox\" checked><label for=\"sk-estimator-id-17\" class=\"sk-toggleable__label fitted sk-toggleable__label-arrow fitted\">&nbsp;&nbsp;BernoulliNB<a class=\"sk-estimator-doc-link fitted\" rel=\"noreferrer\" target=\"_blank\" href=\"https://scikit-learn.org/1.4/modules/generated/sklearn.naive_bayes.BernoulliNB.html\">?<span>Documentation for BernoulliNB</span></a><span class=\"sk-estimator-doc-link fitted\">i<span>Fitted</span></span></label><div class=\"sk-toggleable__content fitted\"><pre>BernoulliNB()</pre></div> </div></div></div></div>"
      ],
      "text/plain": [
       "BernoulliNB()"
      ]
     },
     "execution_count": 212,
     "metadata": {},
     "output_type": "execute_result"
    }
   ],
   "source": [
    "model = BernoulliNB()\n",
    "model.fit(X_train, y_train)"
   ]
  },
  {
   "cell_type": "markdown",
   "id": "fea21b0b",
   "metadata": {
    "slideshow": {
     "slide_type": "slide"
    }
   },
   "source": [
    "### Step 4: Model Evaluation"
   ]
  },
  {
   "cell_type": "code",
   "execution_count": 213,
   "id": "2fa2ebc9",
   "metadata": {
    "slideshow": {
     "slide_type": "slide"
    }
   },
   "outputs": [
    {
     "name": "stdout",
     "output_type": "stream",
     "text": [
      "train acc: 0.831037037037037\n",
      "test acc: 0.8413\n"
     ]
    }
   ],
   "source": [
    "# Model Evaluation\n",
    "print(\"train acc:\", model.score(X_train, y_train))\n",
    "print(\"test acc:\", model.score(X_test, y_test))"
   ]
  },
  {
   "cell_type": "code",
   "execution_count": 214,
   "id": "48b6962b",
   "metadata": {
    "slideshow": {
     "slide_type": "slide"
    }
   },
   "outputs": [
    {
     "name": "stdout",
     "output_type": "stream",
     "text": [
      "Classification report for the test set:\n",
      "              precision    recall  f1-score   support\n",
      "\n",
      "           0       0.91      0.90      0.90       980\n",
      "           1       0.90      0.96      0.93      1135\n",
      "           2       0.89      0.83      0.86      1032\n",
      "           3       0.77      0.84      0.80      1010\n",
      "           4       0.82      0.81      0.82       982\n",
      "           5       0.83      0.70      0.76       892\n",
      "           6       0.88      0.89      0.89       958\n",
      "           7       0.93      0.84      0.88      1028\n",
      "           8       0.76      0.78      0.77       974\n",
      "           9       0.74      0.84      0.79      1009\n",
      "\n",
      "    accuracy                           0.84     10000\n",
      "   macro avg       0.84      0.84      0.84     10000\n",
      "weighted avg       0.84      0.84      0.84     10000\n",
      "\n"
     ]
    }
   ],
   "source": [
    "# Predict the labels for the test set\n",
    "y_test_pred = model.predict(X_test)\n",
    "\n",
    "# Print the classification report for the test set\n",
    "print(\"Classification report for the test set:\")\n",
    "print(classification_report(y_test, y_test_pred))"
   ]
  },
  {
   "cell_type": "code",
   "execution_count": 215,
   "id": "af8e57c4",
   "metadata": {
    "slideshow": {
     "slide_type": "slide"
    }
   },
   "outputs": [
    {
     "data": {
      "image/png": "[encoded data removed]",
      "text/plain": [
       "<Figure size 432x288 with 2 Axes>"
      ]
     },
     "metadata": {
      "needs_background": "light"
     },
     "output_type": "display_data"
    }
   ],
   "source": [
    "# Generate the confusion matrix for the test set\n",
    "cm = confusion_matrix(y_test, y_test_pred)\n",
    "\n",
    "# Display the confusion matrix using ConfusionMatrixDisplay\n",
    "cmd = ConfusionMatrixDisplay(cm, display_labels=model.classes_)\n",
    "cmd.plot(values_format='d')\n",
    "plt.title('Confusion Matrix for the Test Set')\n",
    "plt.show()"
   ]
  },
  {
   "cell_type": "code",
   "execution_count": null,
   "id": "5c415137",
   "metadata": {
    "slideshow": {
     "slide_type": "slide"
    }
   },
   "outputs": [],
   "source": [
    "from sklearn.model_selection import cross_val_score\n",
    "\n",
    "# Perform cross-validation with 5 folds\n",
    "cv_scores = cross_val_score(model, X_train, y_train, cv=5, scoring='accuracy')\n",
    "\n",
    "# Print the cross-validation scores for each fold\n",
    "print(\"Cross-validation scores for each fold:\", cv_scores)"
   ]
  },
  {
   "cell_type": "code",
   "execution_count": null,
   "id": "4f00c715",
   "metadata": {
    "slideshow": {
     "slide_type": "slide"
    }
   },
   "outputs": [],
   "source": [
    "# Calculate the mean and standard deviation of the cross-validation scores\n",
    "mean_cv_score = cv_scores.mean()\n",
    "std_cv_score = cv_scores.std()\n",
    "\n",
    "# Print the mean and standard deviation\n",
    "print(f\"Mean cross-validation accuracy: {mean_cv_score:.3f}\")\n",
    "print(f\"Standard deviation of cross-validation accuracy: {std_cv_score:.3f}\")"
   ]
  },
  {
   "cell_type": "code",
   "execution_count": 220,
   "id": "13076a67",
   "metadata": {
    "slideshow": {
     "slide_type": "slide"
    }
   },
   "outputs": [
    {
     "data": {
      "image/png": "[encoded data removed]",
      "text/plain": [
       "<Figure size 432x288 with 1 Axes>"
      ]
     },
     "metadata": {
      "needs_background": "light"
     },
     "output_type": "display_data"
    }
   ],
   "source": [
    "# Show some misclassified examples\n",
    "\n",
    "#np.random.seed(1)\n",
    "\n",
    "misclassified_idx = np.where(y_test_pred != y_test)[0]\n",
    "i = np.random.choice(misclassified_idx)\n",
    "plt.imshow(X_test[i].reshape(28, 28), cmap='gray')\n",
    "plt.title(f\"True label: {y_test[i]} Predicted: {y_test_pred[i]}\");\n"
   ]
  },
  {
   "cell_type": "markdown",
   "id": "c21f722f",
   "metadata": {
    "slideshow": {
     "slide_type": "slide"
    }
   },
   "source": [
    "# <center>Questions?</center> \n",
    "\n"
   ]
  },
  {
   "cell_type": "markdown",
   "id": "f60c7347",
   "metadata": {
    "slideshow": {
     "slide_type": "slide"
    }
   },
   "source": [
    "# Homework Assignment: Enhancing Naive Bayes Classifier Models\n",
    "\n",
    "## It is your turn! \n",
    "\n",
    "In this assignment, you are tasked with enhancing the predictive performance of one of the Naive Bayes classifier models we developed in class. This is an opportunity for you to implement and experiment with the machine learning concepts and techniques discussed during the lecture.\n",
    "\n",
    "### Objectives <a class=\"tocSkip\">\n",
    "\n",
    "- **Model Optimization**: Optimize the existing Naive Bayes classifier or select an alternative model that you believe could yield better results.\n",
    "- **Data Processing**: Apply different data preprocessing techniques to improve model accuracy.\n",
    "- **Research**: Conduct research to explore various strategies that could enhance model performance. Utilize reputable resources to support your choices.\n",
    "\n",
    "### Deliverables <a class=\"tocSkip\">\n",
    "\n",
    "1. **Enhanced Model Implementation**: A Python script or Jupyter Notebook containing the code for your improved model.\n",
    "2. **Performance Comparison**: A report comparing the original model's performance with your enhanced model. Include metrics such as accuracy, precision, recall, and F1-score.\n",
    "3. **Justification**: A detailed explanation of the changes you made, including:\n",
    "   - Why you chose to adjust or change the model.\n",
    "   - The data processing techniques you applied.\n",
    "   - Any resources or references you utilized to inform your decisions.\n",
    "\n",
    "### Evaluation Criteria <a class=\"tocSkip\">\n",
    "\n",
    "- **Innovation**: Creative and effective approaches to model enhancement.\n",
    "- **Accuracy**: The predictive performance of your final model.\n",
    "- **Justification**: The rationale behind your methodological choices.\n",
    "- **Presentation**: Clarity and structure of your comparative analysis and justifications.\n",
    "\n",
    "Your assignment will not only be evaluated on the improved accuracy of the model but also on your analytical approach and the ability to articulate your decision-making process.\n",
    "\n",
    "## <center>Have Fun!</center> <a class=\"tocSkip\">\n"
   ]
  },
  {
   "cell_type": "markdown",
   "id": "c3b71b94",
   "metadata": {
    "slideshow": {
     "slide_type": "slide"
    }
   },
   "source": [
    "# <center>Thank you!</center>"
   ]
  },
  {
   "cell_type": "markdown",
   "id": "f87b13b8",
   "metadata": {
    "slideshow": {
     "slide_type": "slide"
    }
   },
   "source": [
    "# References\n",
    "\n",
    "<br>\n",
    "- James, G., Witten, D., Hastie, T., Tibshirani, R., & Taylor, J. (2023). An Introduction to Statistical Learning: With Applications in Python (1st ed. 2023 edition). Springer.\n",
    "\n",
    "- H. Zhang (2004). [The optimality of Naive Bayes.](https://www.cs.unb.ca/~hzhang/publications/FLAIRS04ZhangH.pdf)\n",
    "  Proc. FLAIRS.  \n",
    "\n",
    "- C.D. Manning, P. Raghavan and H. Schütze (2008). Introduction to\n",
    "  Information Retrieval. Cambridge University Press, pp. 234-265.  \n",
    "\n",
    "- A. McCallum and K. Nigam (1998).\n",
    "  [A comparison of event models for Naive Bayes text classification.](https://citeseerx.ist.psu.edu/doc_view/pid/04ce064505b1635583fa0d9cc07cac7e9ea993cc)\n",
    "  Proc. AAAI/ICML-98 Workshop on Learning for Text Categorization, pp. 41-48.  \n",
    "\n",
    "- V. Metsis, I. Androutsopoulos and G. Paliouras (2006).\n",
    "  [Spam filtering with Naive Bayes – Which Naive Bayes?](https://citeseerx.ist.psu.edu/doc_view/pid/8bd0934b366b539ec95e683ae39f8abb29ccc757)\n",
    "  3rd Conf. on Email and Anti-Spam (CEAS).  \n",
    "\n",
    "- Rennie, J. D., Shih, L., Teevan, J., & Karger, D. R. (2003).\n",
    "  [Tackling the poor assumptions of naive bayes text classifiers.](https://people.csail.mit.edu/jrennie/papers/icml03-nb.pdf)\n",
    "  In ICML (Vol. 3, pp. 616-623).  \n",
    "\n",
    "- C.D. Manning, P. Raghavan and H. Schütze (2008). Introduction to\n",
    "  Information Retrieval. Cambridge University Press, pp. 234-265.  \n",
    "\n",
    "- A. McCallum and K. Nigam (1998).\n",
    "  [A comparison of event models for Naive Bayes text classification.](https://citeseerx.ist.psu.edu/doc_view/pid/04ce064505b1635583fa0d9cc07cac7e9ea993cc)\n",
    "  Proc. AAAI/ICML-98 Workshop on Learning for Text Categorization, pp. 41-48.  \n",
    "\n",
    "- V. Metsis, I. Androutsopoulos and G. Paliouras (2006).\n",
    "  [Spam filtering with Naive Bayes – Which Naive Bayes?](https://citeseerx.ist.psu.edu/doc_view/pid/8bd0934b366b539ec95e683ae39f8abb29ccc757)\n",
    "  3rd Conf. on Email and Anti-Spam (CEAS).  \n",
    "\n",
    "- Rennie, J. D., Shih, L., Teevan, J., & Karger, D. R. (2003).\n",
    "  [Tackling the poor assumptions of naive bayes text classifiers.](https://people.csail.mit.edu/jrennie/papers/icml03-nb.pdf)\n",
    "  In ICML (Vol. 3, pp. 616-623).  \n",
    "\n",
    "- Smith, J.W., Everhart, J.E., Dickson, W.C., Knowler, W.C., & Johannes, R.S. (1988). *Using the ADAP learning algorithm to forecast the onset of diabetes mellitus*. In Proceedings of the Symposium on Computer Applications and Medical Care (pp. 261--265). IEEE Computer Society Press.\n",
    "- D. Greene and P. Cunningham. \"Practical Solutions to the Problem of Diagonal Dominance in Kernel Document Clustering\", Proc. ICML 2006.\n",
    "  \n",
    "\n"
   ]
  },
  {
   "cell_type": "markdown",
   "id": "2010431e",
   "metadata": {
    "slideshow": {
     "slide_type": "slide"
    }
   },
   "source": [
    "# Annex"
   ]
  },
  {
   "cell_type": "markdown",
   "id": "be9c7546",
   "metadata": {
    "slideshow": {
     "slide_type": "slide"
    }
   },
   "source": [
    "## Complement Naive Bayes\n",
    "\n",
    "`ComplementNB` implements the complement naive Bayes (CNB) algorithm.\n",
    "CNB is an adaptation of the standard multinomial naive Bayes (MNB) algorithm\n",
    "that is particularly suited for imbalanced data sets. Specifically, CNB uses\n",
    "statistics from the *complement* of each class to compute the model’s weights.\n",
    "The inventors of CNB show empirically that the parameter estimates for CNB are\n",
    "more stable than those for MNB. Further, CNB regularly outperforms MNB (often\n",
    "by a considerable margin) on text classification tasks.\n",
    "\n",
    "**Weights calculation**\n",
    "\n",
    "The procedure for calculating the weights is as follows:\n",
    "\n",
    "$$\n",
    "\\hat{\\theta}_{ci} = \\frac{\\alpha_i + \\sum_{j:y_j \\neq c} d_{ij}}\n",
    "                         {\\alpha + \\sum_{j:y_j \\neq c} \\sum_{k} d_{kj}}\n",
    "$$\n",
    "$$\n",
    "w_{ci} = \\log \\hat{\\theta}_{ci}\n",
    "$$\n",
    "$$\n",
    "w_{ci} = \\frac{w_{ci}}{\\sum_{j} |w_{cj}|}\n",
    "$$\n",
    "\n",
    "where the summations are over all documents $ j $ not in class $ c $,\n",
    "$ d_{ij} $ is either the count or tf-idf value of term $ i $ in document\n",
    "$ j $, $ \\alpha_i $ is a smoothing hyperparameter like that found in\n",
    "MNB, and $ \\alpha = \\sum_{i} \\alpha_i $. The second normalization addresses\n",
    "the tendency for longer documents to dominate parameter estimates in MNB. The\n",
    "classification rule is:\n",
    "\n",
    "$$\n",
    "\\hat{c} = \\arg\\min_c \\sum_{i} t_i w_{ci}\n",
    "$$\n",
    "\n",
    "i.e., a document is assigned to the class that is the *poorest* complement\n",
    "match.\n"
   ]
  },
  {
   "cell_type": "markdown",
   "id": "78f24dc3",
   "metadata": {
    "slideshow": {
     "slide_type": "slide"
    }
   },
   "source": [
    "## Categorical Naive Bayes\n",
    "\n",
    "`CategoricalNB` implements the categorical naive Bayes\n",
    "algorithm for categorically distributed data. It assumes that each feature,\n",
    "which is described by the index $ i $, has its own categorical\n",
    "distribution.\n",
    "\n",
    "For each feature $ i $ in the training set $ X $,\n",
    "`CategoricalNB` estimates a categorical distribution for each feature i\n",
    "of X conditioned on the class y. The index set of the samples is defined as\n",
    "$ J = \\{ 1, \\dots, m \\} $, with $ m $ as the number of samples.\n",
    "\n",
    "**Probability calculation**\n",
    "\n",
    "The probability of category $ t $ in feature $ i $ given class\n",
    "$ c $ is estimated as:\n",
    "\n",
    "$$\n",
    "P(x_i = t \\mid y = c \\: ;\\, \\alpha) = \\frac{ N_{tic} + \\alpha}{N_{c} +\n",
    "                                       \\alpha n_i},\n",
    "$$\n",
    "\n",
    "where $ N_{tic} = |\\{j \\in J \\mid x_{ij} = t, y_j = c\\}| $ is the number\n",
    "of times category $ t $ appears in the samples $ x_{i} $, which belong\n",
    "to class $ c $, $ N_{c} = |\\{ j \\in J\\mid y_j = c\\}| $ is the number\n",
    "of samples with class c, $ \\alpha $ is a smoothing parameter and\n",
    "$ n_i $ is the number of available categories of feature $ i $.\n",
    "\n",
    "\n",
    "`CategoricalNB` assumes that the sample matrix $ X $ is encoded (for\n",
    "instance with the help of `OrdinalEncoder`) such\n",
    "that all categories for each feature $ i $ are represented with numbers\n",
    "$ 0, ..., n_i - 1 $ where $ n_i $ is the number of available categories\n",
    "of feature $ i $."
   ]
  },
  {
   "cell_type": "markdown",
   "id": "33010895",
   "metadata": {
    "slideshow": {
     "slide_type": "slide"
    }
   },
   "source": [
    "## Out-of-core naive Bayes model fitting\n",
    "\n",
    "Naive Bayes models can be used to tackle large scale classification problems\n",
    "for which the full training set might not fit in memory. To handle this case,\n",
    "`MultinomialNB`, `BernoulliNB`, and `GaussianNB`\n",
    "expose a `partial_fit` method that can be used\n",
    "incrementally as done with other classifiers as demonstrated in\n",
    "sphx_glr_auto_examples_applications_plot_out_of_core_classification.py. All naive Bayes\n",
    "classifiers support sample weighting.\n",
    "\n",
    "Contrary to the `fit` method, the first call to `partial_fit` needs to be\n",
    "passed the list of all the expected class labels.\n",
    "\n",
    "For an overview of available strategies in scikit-learn, see also the\n",
    "out-of-core learning documentation.\n",
    "\n",
    ">**Note**\n",
    ">\n",
    ">The `partial_fit` method call of naive Bayes models introduces some\n",
    "computational overhead. It is recommended to use data chunk sizes that are as\n",
    "large as possible, that is as the available RAM allows."
   ]
  }
 ],
 "metadata": {
  "celltoolbar": "Slideshow",
  "date": 1706230122.46583,
  "filename": "naive_bayes.rst",
  "kernelspec": {
   "display_name": "Python 3 (ipykernel)",
   "language": "python",
   "name": "python3"
  },
  "language_info": {
   "codemirror_mode": {
    "name": "ipython",
    "version": 3
   },
   "file_extension": ".py",
   "mimetype": "text/x-python",
   "name": "python",
   "nbconvert_exporter": "python",
   "pygments_lexer": "ipython3",
   "version": "3.9.12"
  },
  "rise": {
   "scroll": true
  },
  "title": "Naive Bayes",
  "toc": {
   "base_numbering": 1,
   "nav_menu": {},
   "number_sections": true,
   "sideBar": false,
   "skip_h1_title": false,
   "title_cell": "Table of Contents",
   "title_sidebar": "Contents",
   "toc_cell": false,
   "toc_position": {
    "height": "47.0312px",
    "left": "38.9844px",
    "top": "1352.98px",
    "width": "159.359px"
   },
   "toc_section_display": false,
   "toc_window_display": true
  }
 },
 "nbformat": 4,
 "nbformat_minor": 5
}
